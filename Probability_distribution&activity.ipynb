{
 "cells": [
  {
   "cell_type": "markdown",
   "id": "d3491f2e-6a06-4fd8-b800-6beb0d27aa13",
   "metadata": {},
   "source": [
    "PROBABILITY DISTRIBUTION IN PYTHON"
   ]
  },
  {
   "cell_type": "code",
   "execution_count": 1,
   "id": "6f34d1ae-2506-4b04-81bb-4f3af1717f8c",
   "metadata": {},
   "outputs": [],
   "source": [
    "import numpy as np\n",
    "import pandas as pd\n",
    "import matplotlib.pyplot as plt\n",
    "from scipy import stats"
   ]
  },
  {
   "cell_type": "code",
   "execution_count": 2,
   "id": "7a575372-6efa-4670-99d4-2eb6384f716c",
   "metadata": {},
   "outputs": [],
   "source": [
    "education_districtwise = pd.read_csv('education_districtwise.csv')\n",
    "education_districtwise = education_districtwise.dropna()"
   ]
  },
  {
   "cell_type": "code",
   "execution_count": 3,
   "id": "7b1f6815-abe8-4583-ab51-bef41444b7e1",
   "metadata": {},
   "outputs": [
    {
     "data": {
      "text/plain": [
       "<Axes: >"
      ]
     },
     "execution_count": 3,
     "metadata": {},
     "output_type": "execute_result"
    },
    {
     "data": {
      "image/png": "[encoded data removed]",
      "text/plain": [
       "<Figure size 640x480 with 1 Axes>"
      ]
     },
     "metadata": {},
     "output_type": "display_data"
    }
   ],
   "source": [
    "education_districtwise['OVERALL_LI'].hist() #plot a histogram"
   ]
  },
  {
   "cell_type": "code",
   "execution_count": 12,
   "id": "8a979b11-0dcc-427c-96bd-6ceded4e0041",
   "metadata": {},
   "outputs": [
    {
     "data": {
      "text/plain": [
       "73.320224"
      ]
     },
     "execution_count": 12,
     "metadata": {},
     "output_type": "execute_result"
    }
   ],
   "source": [
    "mean_overall_li = education_districtwise['OVERALL_LI'].mean()\n",
    "mean_overall_li"
   ]
  },
  {
   "cell_type": "code",
   "execution_count": 13,
   "id": "1cdc0d5f-9814-4ce5-a207-5bdc5b9b57d3",
   "metadata": {},
   "outputs": [
    {
     "data": {
      "text/plain": [
       "10.120713572618008"
      ]
     },
     "execution_count": 13,
     "metadata": {},
     "output_type": "execute_result"
    }
   ],
   "source": [
    "std_overall_li = education_districtwise['OVERALL_LI'].std()\n",
    "std_overall_li"
   ]
  },
  {
   "cell_type": "code",
   "execution_count": 14,
   "id": "1074fd21-acff-4689-a7e0-440922040ced",
   "metadata": {},
   "outputs": [
    {
     "data": {
      "text/plain": [
       "0.6656"
      ]
     },
     "execution_count": 14,
     "metadata": {},
     "output_type": "execute_result"
    }
   ],
   "source": [
    "lower_limit = mean_overall_li - 1 * std_overall_li\n",
    "upper_limit = mean_overall_li + 1 * std_overall_li\n",
    "((education_districtwise['OVERALL_LI'] >= lower_limit) & \n",
    " (education_districtwise['OVERALL_LI'] <= upper_limit)).mean()"
   ]
  },
  {
   "cell_type": "code",
   "execution_count": 15,
   "id": "04b4d536-87e8-453f-bdea-01898654abf9",
   "metadata": {},
   "outputs": [
    {
     "data": {
      "text/plain": [
       "0.9536"
      ]
     },
     "execution_count": 15,
     "metadata": {},
     "output_type": "execute_result"
    }
   ],
   "source": [
    "lower_limit = mean_overall_li - 2 * std_overall_li\n",
    "upper_limit = mean_overall_li + 2 * std_overall_li\n",
    "((education_districtwise['OVERALL_LI'] >= lower_limit) & (education_districtwise['OVERALL_LI'] <= upper_limit)).mean()"
   ]
  },
  {
   "cell_type": "code",
   "execution_count": 16,
   "id": "46c03001-30ab-4877-a84b-bddbcff0453c",
   "metadata": {},
   "outputs": [
    {
     "data": {
      "text/plain": [
       "0.9968"
      ]
     },
     "execution_count": 16,
     "metadata": {},
     "output_type": "execute_result"
    }
   ],
   "source": [
    "lower_limit = mean_overall_li - 3 * std_overall_li\n",
    "upper_limit = mean_overall_li + 3 * std_overall_li\n",
    "((education_districtwise['OVERALL_LI'] >= lower_limit) & (education_districtwise['OVERALL_LI'] <= upper_limit)).mean()"
   ]
  },
  {
   "cell_type": "code",
   "execution_count": 17,
   "id": "8ec8fdd3-10ae-4655-9b1f-39fc68d4ed64",
   "metadata": {},
   "outputs": [
    {
     "data": {
      "text/html": [
       "<div>\n",
       "<style scoped>\n",
       "    .dataframe tbody tr th:only-of-type {\n",
       "        vertical-align: middle;\n",
       "    }\n",
       "\n",
       "    .dataframe tbody tr th {\n",
       "        vertical-align: top;\n",
       "    }\n",
       "\n",
       "    .dataframe thead th {\n",
       "        text-align: right;\n",
       "    }\n",
       "</style>\n",
       "<table border=\"1\" class=\"dataframe\">\n",
       "  <thead>\n",
       "    <tr style=\"text-align: right;\">\n",
       "      <th></th>\n",
       "      <th>AC_YEAR</th>\n",
       "      <th>STATCD</th>\n",
       "      <th>DISTCD</th>\n",
       "      <th>STATNAME</th>\n",
       "      <th>DISTNAME</th>\n",
       "      <th>DISTRICTS</th>\n",
       "      <th>BLOCKS</th>\n",
       "      <th>VILLAGES</th>\n",
       "      <th>CLUSTERS</th>\n",
       "      <th>TOTPOPULAT</th>\n",
       "      <th>...</th>\n",
       "      <th>UUNI_SC</th>\n",
       "      <th>UUNI_ST</th>\n",
       "      <th>TOTCLS1G</th>\n",
       "      <th>TOTCLS2G</th>\n",
       "      <th>TOTCLS3G</th>\n",
       "      <th>TOTCLS4G</th>\n",
       "      <th>TOTCLS5G</th>\n",
       "      <th>TOTCLS6G</th>\n",
       "      <th>TOTCLS7G</th>\n",
       "      <th>Z_SCORE</th>\n",
       "    </tr>\n",
       "  </thead>\n",
       "  <tbody>\n",
       "    <tr>\n",
       "      <th>0</th>\n",
       "      <td>2015-16</td>\n",
       "      <td>1</td>\n",
       "      <td>101</td>\n",
       "      <td>JAMMU &amp; KASHMIR</td>\n",
       "      <td>KUPWARA</td>\n",
       "      <td>1</td>\n",
       "      <td>13</td>\n",
       "      <td>391</td>\n",
       "      <td>104</td>\n",
       "      <td>875564.0</td>\n",
       "      <td>...</td>\n",
       "      <td>26</td>\n",
       "      <td>2594</td>\n",
       "      <td>3489</td>\n",
       "      <td>5315</td>\n",
       "      <td>27</td>\n",
       "      <td>62</td>\n",
       "      <td>23</td>\n",
       "      <td>852</td>\n",
       "      <td>239</td>\n",
       "      <td>-0.632895</td>\n",
       "    </tr>\n",
       "    <tr>\n",
       "      <th>1</th>\n",
       "      <td>2015-16</td>\n",
       "      <td>1</td>\n",
       "      <td>102</td>\n",
       "      <td>JAMMU &amp; KASHMIR</td>\n",
       "      <td>BARAMULA</td>\n",
       "      <td>1</td>\n",
       "      <td>18</td>\n",
       "      <td>678</td>\n",
       "      <td>144</td>\n",
       "      <td>1015503.0</td>\n",
       "      <td>...</td>\n",
       "      <td>0</td>\n",
       "      <td>1571</td>\n",
       "      <td>4127</td>\n",
       "      <td>5800</td>\n",
       "      <td>210</td>\n",
       "      <td>53</td>\n",
       "      <td>30</td>\n",
       "      <td>1665</td>\n",
       "      <td>360</td>\n",
       "      <td>-0.631906</td>\n",
       "    </tr>\n",
       "    <tr>\n",
       "      <th>2</th>\n",
       "      <td>2015-16</td>\n",
       "      <td>1</td>\n",
       "      <td>103</td>\n",
       "      <td>JAMMU &amp; KASHMIR</td>\n",
       "      <td>SRINAGAR</td>\n",
       "      <td>1</td>\n",
       "      <td>8</td>\n",
       "      <td>94</td>\n",
       "      <td>65</td>\n",
       "      <td>1269751.0</td>\n",
       "      <td>...</td>\n",
       "      <td>31</td>\n",
       "      <td>408</td>\n",
       "      <td>817</td>\n",
       "      <td>3284</td>\n",
       "      <td>886</td>\n",
       "      <td>11</td>\n",
       "      <td>0</td>\n",
       "      <td>2873</td>\n",
       "      <td>40</td>\n",
       "      <td>-0.208672</td>\n",
       "    </tr>\n",
       "    <tr>\n",
       "      <th>3</th>\n",
       "      <td>2015-16</td>\n",
       "      <td>1</td>\n",
       "      <td>104</td>\n",
       "      <td>JAMMU &amp; KASHMIR</td>\n",
       "      <td>BADGAM</td>\n",
       "      <td>1</td>\n",
       "      <td>13</td>\n",
       "      <td>523</td>\n",
       "      <td>104</td>\n",
       "      <td>735753.0</td>\n",
       "      <td>...</td>\n",
       "      <td>18</td>\n",
       "      <td>857</td>\n",
       "      <td>2290</td>\n",
       "      <td>3837</td>\n",
       "      <td>119</td>\n",
       "      <td>45</td>\n",
       "      <td>8</td>\n",
       "      <td>1035</td>\n",
       "      <td>325</td>\n",
       "      <td>-1.516940</td>\n",
       "    </tr>\n",
       "    <tr>\n",
       "      <th>4</th>\n",
       "      <td>2015-16</td>\n",
       "      <td>1</td>\n",
       "      <td>105</td>\n",
       "      <td>JAMMU &amp; KASHMIR</td>\n",
       "      <td>PULWAMA</td>\n",
       "      <td>1</td>\n",
       "      <td>8</td>\n",
       "      <td>359</td>\n",
       "      <td>64</td>\n",
       "      <td>570060.0</td>\n",
       "      <td>...</td>\n",
       "      <td>17</td>\n",
       "      <td>855</td>\n",
       "      <td>1688</td>\n",
       "      <td>2584</td>\n",
       "      <td>151</td>\n",
       "      <td>67</td>\n",
       "      <td>5</td>\n",
       "      <td>1101</td>\n",
       "      <td>209</td>\n",
       "      <td>-0.822757</td>\n",
       "    </tr>\n",
       "    <tr>\n",
       "      <th>...</th>\n",
       "      <td>...</td>\n",
       "      <td>...</td>\n",
       "      <td>...</td>\n",
       "      <td>...</td>\n",
       "      <td>...</td>\n",
       "      <td>...</td>\n",
       "      <td>...</td>\n",
       "      <td>...</td>\n",
       "      <td>...</td>\n",
       "      <td>...</td>\n",
       "      <td>...</td>\n",
       "      <td>...</td>\n",
       "      <td>...</td>\n",
       "      <td>...</td>\n",
       "      <td>...</td>\n",
       "      <td>...</td>\n",
       "      <td>...</td>\n",
       "      <td>...</td>\n",
       "      <td>...</td>\n",
       "      <td>...</td>\n",
       "      <td>...</td>\n",
       "    </tr>\n",
       "    <tr>\n",
       "      <th>675</th>\n",
       "      <td>2015-16</td>\n",
       "      <td>36</td>\n",
       "      <td>3606</td>\n",
       "      <td>TELANGANA</td>\n",
       "      <td>RANGA REDDY</td>\n",
       "      <td>1</td>\n",
       "      <td>37</td>\n",
       "      <td>876</td>\n",
       "      <td>137</td>\n",
       "      <td>5296396.0</td>\n",
       "      <td>...</td>\n",
       "      <td>25534</td>\n",
       "      <td>9457</td>\n",
       "      <td>7224</td>\n",
       "      <td>8298</td>\n",
       "      <td>529</td>\n",
       "      <td>0</td>\n",
       "      <td>121</td>\n",
       "      <td>15458</td>\n",
       "      <td>3337</td>\n",
       "      <td>0.467711</td>\n",
       "    </tr>\n",
       "    <tr>\n",
       "      <th>676</th>\n",
       "      <td>2015-16</td>\n",
       "      <td>36</td>\n",
       "      <td>3607</td>\n",
       "      <td>TELANGANA</td>\n",
       "      <td>MAHBUBNAGAR</td>\n",
       "      <td>1</td>\n",
       "      <td>64</td>\n",
       "      <td>1458</td>\n",
       "      <td>230</td>\n",
       "      <td>4042191.0</td>\n",
       "      <td>...</td>\n",
       "      <td>31001</td>\n",
       "      <td>14590</td>\n",
       "      <td>8936</td>\n",
       "      <td>7007</td>\n",
       "      <td>179</td>\n",
       "      <td>0</td>\n",
       "      <td>44</td>\n",
       "      <td>3730</td>\n",
       "      <td>3327</td>\n",
       "      <td>-1.706801</td>\n",
       "    </tr>\n",
       "    <tr>\n",
       "      <th>677</th>\n",
       "      <td>2015-16</td>\n",
       "      <td>36</td>\n",
       "      <td>3608</td>\n",
       "      <td>TELANGANA</td>\n",
       "      <td>NALGONDA</td>\n",
       "      <td>1</td>\n",
       "      <td>59</td>\n",
       "      <td>1117</td>\n",
       "      <td>216</td>\n",
       "      <td>3483648.0</td>\n",
       "      <td>...</td>\n",
       "      <td>26577</td>\n",
       "      <td>14015</td>\n",
       "      <td>7592</td>\n",
       "      <td>4534</td>\n",
       "      <td>103</td>\n",
       "      <td>0</td>\n",
       "      <td>208</td>\n",
       "      <td>4026</td>\n",
       "      <td>3049</td>\n",
       "      <td>-0.817813</td>\n",
       "    </tr>\n",
       "    <tr>\n",
       "      <th>678</th>\n",
       "      <td>2015-16</td>\n",
       "      <td>36</td>\n",
       "      <td>3609</td>\n",
       "      <td>TELANGANA</td>\n",
       "      <td>WARANGAL</td>\n",
       "      <td>1</td>\n",
       "      <td>51</td>\n",
       "      <td>993</td>\n",
       "      <td>211</td>\n",
       "      <td>3522644.0</td>\n",
       "      <td>...</td>\n",
       "      <td>23172</td>\n",
       "      <td>23525</td>\n",
       "      <td>6674</td>\n",
       "      <td>4677</td>\n",
       "      <td>153</td>\n",
       "      <td>0</td>\n",
       "      <td>207</td>\n",
       "      <td>7035</td>\n",
       "      <td>3060</td>\n",
       "      <td>-0.708049</td>\n",
       "    </tr>\n",
       "    <tr>\n",
       "      <th>679</th>\n",
       "      <td>2015-16</td>\n",
       "      <td>36</td>\n",
       "      <td>3610</td>\n",
       "      <td>TELANGANA</td>\n",
       "      <td>KHAMMAM</td>\n",
       "      <td>1</td>\n",
       "      <td>41</td>\n",
       "      <td>783</td>\n",
       "      <td>185</td>\n",
       "      <td>2798214.0</td>\n",
       "      <td>...</td>\n",
       "      <td>15593</td>\n",
       "      <td>25217</td>\n",
       "      <td>6047</td>\n",
       "      <td>4015</td>\n",
       "      <td>104</td>\n",
       "      <td>0</td>\n",
       "      <td>32</td>\n",
       "      <td>3103</td>\n",
       "      <td>2228</td>\n",
       "      <td>-0.777269</td>\n",
       "    </tr>\n",
       "  </tbody>\n",
       "</table>\n",
       "<p>625 rows × 820 columns</p>\n",
       "</div>"
      ],
      "text/plain": [
       "     AC_YEAR  STATCD  DISTCD         STATNAME     DISTNAME  DISTRICTS  BLOCKS  \\\n",
       "0    2015-16       1     101  JAMMU & KASHMIR      KUPWARA          1      13   \n",
       "1    2015-16       1     102  JAMMU & KASHMIR     BARAMULA          1      18   \n",
       "2    2015-16       1     103  JAMMU & KASHMIR     SRINAGAR          1       8   \n",
       "3    2015-16       1     104  JAMMU & KASHMIR       BADGAM          1      13   \n",
       "4    2015-16       1     105  JAMMU & KASHMIR      PULWAMA          1       8   \n",
       "..       ...     ...     ...              ...          ...        ...     ...   \n",
       "675  2015-16      36    3606        TELANGANA  RANGA REDDY          1      37   \n",
       "676  2015-16      36    3607        TELANGANA  MAHBUBNAGAR          1      64   \n",
       "677  2015-16      36    3608        TELANGANA     NALGONDA          1      59   \n",
       "678  2015-16      36    3609        TELANGANA     WARANGAL          1      51   \n",
       "679  2015-16      36    3610        TELANGANA      KHAMMAM          1      41   \n",
       "\n",
       "     VILLAGES  CLUSTERS  TOTPOPULAT  ...  UUNI_SC  UUNI_ST  TOTCLS1G  \\\n",
       "0         391       104    875564.0  ...       26     2594      3489   \n",
       "1         678       144   1015503.0  ...        0     1571      4127   \n",
       "2          94        65   1269751.0  ...       31      408       817   \n",
       "3         523       104    735753.0  ...       18      857      2290   \n",
       "4         359        64    570060.0  ...       17      855      1688   \n",
       "..        ...       ...         ...  ...      ...      ...       ...   \n",
       "675       876       137   5296396.0  ...    25534     9457      7224   \n",
       "676      1458       230   4042191.0  ...    31001    14590      8936   \n",
       "677      1117       216   3483648.0  ...    26577    14015      7592   \n",
       "678       993       211   3522644.0  ...    23172    23525      6674   \n",
       "679       783       185   2798214.0  ...    15593    25217      6047   \n",
       "\n",
       "     TOTCLS2G  TOTCLS3G  TOTCLS4G  TOTCLS5G  TOTCLS6G  TOTCLS7G   Z_SCORE  \n",
       "0        5315        27        62        23       852       239 -0.632895  \n",
       "1        5800       210        53        30      1665       360 -0.631906  \n",
       "2        3284       886        11         0      2873        40 -0.208672  \n",
       "3        3837       119        45         8      1035       325 -1.516940  \n",
       "4        2584       151        67         5      1101       209 -0.822757  \n",
       "..        ...       ...       ...       ...       ...       ...       ...  \n",
       "675      8298       529         0       121     15458      3337  0.467711  \n",
       "676      7007       179         0        44      3730      3327 -1.706801  \n",
       "677      4534       103         0       208      4026      3049 -0.817813  \n",
       "678      4677       153         0       207      7035      3060 -0.708049  \n",
       "679      4015       104         0        32      3103      2228 -0.777269  \n",
       "\n",
       "[625 rows x 820 columns]"
      ]
     },
     "execution_count": 17,
     "metadata": {},
     "output_type": "execute_result"
    }
   ],
   "source": [
    "education_districtwise['Z_SCORE'] = stats.zscore(education_districtwise['OVERALL_LI'])\n",
    "education_districtwise\n"
   ]
  },
  {
   "cell_type": "code",
   "execution_count": 18,
   "id": "150e0663-4b25-45e0-a00f-a8745a887a0d",
   "metadata": {},
   "outputs": [
    {
     "data": {
      "text/html": [
       "<div>\n",
       "<style scoped>\n",
       "    .dataframe tbody tr th:only-of-type {\n",
       "        vertical-align: middle;\n",
       "    }\n",
       "\n",
       "    .dataframe tbody tr th {\n",
       "        vertical-align: top;\n",
       "    }\n",
       "\n",
       "    .dataframe thead th {\n",
       "        text-align: right;\n",
       "    }\n",
       "</style>\n",
       "<table border=\"1\" class=\"dataframe\">\n",
       "  <thead>\n",
       "    <tr style=\"text-align: right;\">\n",
       "      <th></th>\n",
       "      <th>AC_YEAR</th>\n",
       "      <th>STATCD</th>\n",
       "      <th>DISTCD</th>\n",
       "      <th>STATNAME</th>\n",
       "      <th>DISTNAME</th>\n",
       "      <th>DISTRICTS</th>\n",
       "      <th>BLOCKS</th>\n",
       "      <th>VILLAGES</th>\n",
       "      <th>CLUSTERS</th>\n",
       "      <th>TOTPOPULAT</th>\n",
       "      <th>...</th>\n",
       "      <th>UUNI_SC</th>\n",
       "      <th>UUNI_ST</th>\n",
       "      <th>TOTCLS1G</th>\n",
       "      <th>TOTCLS2G</th>\n",
       "      <th>TOTCLS3G</th>\n",
       "      <th>TOTCLS4G</th>\n",
       "      <th>TOTCLS5G</th>\n",
       "      <th>TOTCLS6G</th>\n",
       "      <th>TOTCLS7G</th>\n",
       "      <th>Z_SCORE</th>\n",
       "    </tr>\n",
       "  </thead>\n",
       "  <tbody>\n",
       "    <tr>\n",
       "      <th>434</th>\n",
       "      <td>2015-16</td>\n",
       "      <td>22</td>\n",
       "      <td>2216</td>\n",
       "      <td>CHHATTISGARH</td>\n",
       "      <td>DANTEWADA</td>\n",
       "      <td>1</td>\n",
       "      <td>4</td>\n",
       "      <td>360</td>\n",
       "      <td>53</td>\n",
       "      <td>532791.0</td>\n",
       "      <td>...</td>\n",
       "      <td>441</td>\n",
       "      <td>6897</td>\n",
       "      <td>1908</td>\n",
       "      <td>433</td>\n",
       "      <td>85</td>\n",
       "      <td>589</td>\n",
       "      <td>34</td>\n",
       "      <td>79</td>\n",
       "      <td>38</td>\n",
       "      <td>-3.030890</td>\n",
       "    </tr>\n",
       "    <tr>\n",
       "      <th>494</th>\n",
       "      <td>2015-16</td>\n",
       "      <td>23</td>\n",
       "      <td>2349</td>\n",
       "      <td>MADHYA PRADESH</td>\n",
       "      <td>ALIRAJPUR</td>\n",
       "      <td>1</td>\n",
       "      <td>6</td>\n",
       "      <td>612</td>\n",
       "      <td>62</td>\n",
       "      <td>728677.0</td>\n",
       "      <td>...</td>\n",
       "      <td>930</td>\n",
       "      <td>24493</td>\n",
       "      <td>4864</td>\n",
       "      <td>381</td>\n",
       "      <td>59</td>\n",
       "      <td>1473</td>\n",
       "      <td>2</td>\n",
       "      <td>35</td>\n",
       "      <td>0</td>\n",
       "      <td>-3.569821</td>\n",
       "    </tr>\n",
       "  </tbody>\n",
       "</table>\n",
       "<p>2 rows × 820 columns</p>\n",
       "</div>"
      ],
      "text/plain": [
       "     AC_YEAR  STATCD  DISTCD        STATNAME   DISTNAME  DISTRICTS  BLOCKS  \\\n",
       "434  2015-16      22    2216    CHHATTISGARH  DANTEWADA          1       4   \n",
       "494  2015-16      23    2349  MADHYA PRADESH  ALIRAJPUR          1       6   \n",
       "\n",
       "     VILLAGES  CLUSTERS  TOTPOPULAT  ...  UUNI_SC  UUNI_ST  TOTCLS1G  \\\n",
       "434       360        53    532791.0  ...      441     6897      1908   \n",
       "494       612        62    728677.0  ...      930    24493      4864   \n",
       "\n",
       "     TOTCLS2G  TOTCLS3G  TOTCLS4G  TOTCLS5G  TOTCLS6G  TOTCLS7G   Z_SCORE  \n",
       "434       433        85       589        34        79        38 -3.030890  \n",
       "494       381        59      1473         2        35         0 -3.569821  \n",
       "\n",
       "[2 rows x 820 columns]"
      ]
     },
     "execution_count": 18,
     "metadata": {},
     "output_type": "execute_result"
    }
   ],
   "source": [
    "education_districtwise[(education_districtwise['Z_SCORE'] > 3) | (education_districtwise['Z_SCORE'] < -3)]"
   ]
  },
  {
   "cell_type": "markdown",
   "id": "24ad6f0d-40cf-4b99-8cc5-203ff640cd9d",
   "metadata": {},
   "source": [
    "ACTIVITY PROBABILITY DISTRIBUTION"
   ]
  },
  {
   "cell_type": "code",
   "execution_count": 22,
   "id": "699c52ad-a23e-4cb5-af9e-047a6005eaac",
   "metadata": {},
   "outputs": [],
   "source": [
    "#Step 1 imports\n",
    "\n",
    "import numpy as np\n",
    "import pandas as pd\n",
    "import matplotlib.pyplot as plt\n",
    "import statsmodels.api as sm\n",
    "from scipy import stats"
   ]
  },
  {
   "cell_type": "code",
   "execution_count": 24,
   "id": "d584f881-d7fd-492a-90e7-fe63357e0e09",
   "metadata": {},
   "outputs": [],
   "source": [
    "data = pd.read_csv(\"modified_c4_epa_air_quality.csv\") #load the data"
   ]
  },
  {
   "cell_type": "code",
   "execution_count": 25,
   "id": "9adea052-2ad2-4893-a856-ac9fa3356dbf",
   "metadata": {},
   "outputs": [
    {
     "name": "stdout",
     "output_type": "stream",
     "text": [
      "   date_local    state_name   county_name      city_name  \\\n",
      "0  2018-01-01       Arizona      Maricopa        Buckeye   \n",
      "1  2018-01-01          Ohio       Belmont      Shadyside   \n",
      "2  2018-01-01       Wyoming         Teton  Not in a city   \n",
      "3  2018-01-01  Pennsylvania  Philadelphia   Philadelphia   \n",
      "4  2018-01-01          Iowa          Polk     Des Moines   \n",
      "5  2018-01-01        Hawaii      Honolulu  Not in a city   \n",
      "6  2018-01-01        Hawaii      Honolulu  Not in a city   \n",
      "7  2018-01-01  Pennsylvania          Erie           Erie   \n",
      "8  2018-01-01        Hawaii      Honolulu       Honolulu   \n",
      "9  2018-01-01      Colorado       Larimer   Fort Collins   \n",
      "\n",
      "                                     local_site_name   parameter_name  \\\n",
      "0                                            BUCKEYE  Carbon monoxide   \n",
      "1                                          Shadyside  Carbon monoxide   \n",
      "2  Yellowstone National Park - Old Faithful Snow ...  Carbon monoxide   \n",
      "3                             North East Waste (NEW)  Carbon monoxide   \n",
      "4                                          CARPENTER  Carbon monoxide   \n",
      "5                                            Kapolei  Carbon monoxide   \n",
      "6                                            Kapolei  Carbon monoxide   \n",
      "7                                                NaN  Carbon monoxide   \n",
      "8                                           Honolulu  Carbon monoxide   \n",
      "9                      Fort Collins - CSU - S. Mason  Carbon monoxide   \n",
      "\n",
      "    units_of_measure   aqi_log  \n",
      "0  Parts per million  2.079442  \n",
      "1  Parts per million  1.791759  \n",
      "2  Parts per million  1.098612  \n",
      "3  Parts per million  1.386294  \n",
      "4  Parts per million  1.386294  \n",
      "5  Parts per million  2.708050  \n",
      "6  Parts per million  1.098612  \n",
      "7  Parts per million  1.098612  \n",
      "8  Parts per million  1.791759  \n",
      "9  Parts per million  1.945910  \n"
     ]
    }
   ],
   "source": [
    "#Step 2 Data exploration\n",
    "# Display the first 10 rows of the data\n",
    "print(data.head(10))\n"
   ]
  },
  {
   "cell_type": "code",
   "execution_count": 30,
   "id": "c01e95ff-8608-4515-ac9d-646a30143b38",
   "metadata": {},
   "outputs": [
    {
     "data": {
      "text/plain": [
       "260"
      ]
     },
     "execution_count": 30,
     "metadata": {},
     "output_type": "execute_result"
    }
   ],
   "source": [
    "# Display number of rows and number of columns\n",
    "num_rows, num_columns = data.shape\n",
    "num_rows"
   ]
  },
  {
   "cell_type": "code",
   "execution_count": 31,
   "id": "a644b134-3222-4c97-95c5-6b758ca93520",
   "metadata": {},
   "outputs": [
    {
     "data": {
      "text/plain": [
       "8"
      ]
     },
     "execution_count": 31,
     "metadata": {},
     "output_type": "execute_result"
    }
   ],
   "source": [
    "num_columns"
   ]
  },
  {
   "cell_type": "code",
   "execution_count": 33,
   "id": "e550ea97-6f3a-4ca7-b3be-a1107fe25205",
   "metadata": {},
   "outputs": [
    {
     "data": {
      "image/png": "[encoded data removed]",
      "text/plain": [
       "<Figure size 640x480 with 1 Axes>"
      ]
     },
     "metadata": {},
     "output_type": "display_data"
    }
   ],
   "source": [
    "# Create a histogram to visualize the distribution of 'aqi_log'\n",
    "\n",
    "plt.hist(data['aqi_log'].dropna(), bins=30, edgecolor='black')  # Drop NaNs to avoid errors\n",
    "plt.xlabel('AQI Log')\n",
    "plt.ylabel('Frequency')\n",
    "plt.title('Histogram of AQI Log')\n",
    "plt.grid(True)\n",
    "plt.show()"
   ]
  },
  {
   "cell_type": "markdown",
   "id": "bc3e93f0-b2ce-47eb-b923-7a805d560818",
   "metadata": {},
   "source": [
    "Step 3 Statistical tests"
   ]
  },
  {
   "cell_type": "code",
   "execution_count": 34,
   "id": "99f5a165-697d-4664-a9b5-c424e9d49b22",
   "metadata": {},
   "outputs": [
    {
     "name": "stdout",
     "output_type": "stream",
     "text": [
      "Mean of AQI Log: 1.7669210929985582\n"
     ]
    }
   ],
   "source": [
    "# Calculate the mean of 'aqi_log'\n",
    "mean_aqi_log = data['aqi_log'].mean()\n",
    "\n",
    "# Print out the mean\n",
    "print(\"Mean of AQI Log:\", mean_aqi_log)"
   ]
  },
  {
   "cell_type": "code",
   "execution_count": 35,
   "id": "4b70136c-70c4-4145-9000-0279bcc4e9db",
   "metadata": {},
   "outputs": [
    {
     "data": {
      "text/plain": [
       "0.7147155520223721"
      ]
     },
     "execution_count": 35,
     "metadata": {},
     "output_type": "execute_result"
    }
   ],
   "source": [
    "std_aqi_log = data['aqi_log'].std()\n",
    "std_aqi_log"
   ]
  },
  {
   "cell_type": "code",
   "execution_count": 37,
   "id": "a4c70355-41f7-4c69-adef-66936efbca72",
   "metadata": {},
   "outputs": [
    {
     "data": {
      "text/plain": [
       "1.052205540976186"
      ]
     },
     "execution_count": 37,
     "metadata": {},
     "output_type": "execute_result"
    }
   ],
   "source": [
    "# Define lower limit (1 standard deviation below the mean)\n",
    "lower_limit = mean_aqi_log - std_aqi_log\n",
    "\n",
    "# Define upper limit (1 standard deviation above the mean)\n",
    "upper_limit = mean_aqi_log + std_aqi_log\n",
    "\n",
    "lower_limit"
   ]
  },
  {
   "cell_type": "code",
   "execution_count": 38,
   "id": "0806c0ea-834f-433d-a8c9-ab74df33fbf0",
   "metadata": {},
   "outputs": [
    {
     "data": {
      "text/plain": [
       "2.4816366450209304"
      ]
     },
     "execution_count": 38,
     "metadata": {},
     "output_type": "execute_result"
    }
   ],
   "source": [
    "upper_limit"
   ]
  },
  {
   "cell_type": "code",
   "execution_count": 39,
   "id": "6129b4f4-519c-42a4-a135-f2202dc78bfc",
   "metadata": {},
   "outputs": [
    {
     "data": {
      "text/plain": [
       "76.15384615384615"
      ]
     },
     "execution_count": 39,
     "metadata": {},
     "output_type": "execute_result"
    }
   ],
   "source": [
    "# Calculate the proportion of data within the limits\n",
    "proportion_within_limits = ((data['aqi_log'] >= lower_limit) & (data['aqi_log'] <= upper_limit)).mean()\n",
    "\n",
    "# Convert proportion to percentage\n",
    "percentage_within_limits = proportion_within_limits * 100\n",
    "\n",
    "percentage_within_limits"
   ]
  },
  {
   "cell_type": "code",
   "execution_count": 44,
   "id": "0fba336e-913d-4b3b-9b2d-711e4611969d",
   "metadata": {},
   "outputs": [
    {
     "name": "stdout",
     "output_type": "stream",
     "text": [
      "0.3374899889538139\n",
      "3.1963521970433026\n"
     ]
    }
   ],
   "source": [
    "## Display the actual percentage of data that falls within 2 standard deviations of the mean.\n",
    "# Define lower limit (2 standard deviations below the mean)\n",
    "lower_limit = mean_aqi_log - 2 * std_aqi_log\n",
    "\n",
    "# Define upper limit (2 standard deviations above the mean)\n",
    "upper_limit = mean_aqi_log + 2 * std_aqi_log\n",
    "\n",
    "print(lower_limit)\n",
    "print(upper_limit)"
   ]
  },
  {
   "cell_type": "code",
   "execution_count": 43,
   "id": "17d76090-e069-4047-8cca-79a556cc67fe",
   "metadata": {},
   "outputs": [
    {
     "name": "stdout",
     "output_type": "stream",
     "text": [
      "-0.37722556306855815\n",
      "3.9110677490656744\n"
     ]
    }
   ],
   "source": [
    "# Define variable for lower limit, 3 standard deviations below the mean.\n",
    "# Define variable for upper limit, 3 standard deviations above the mean.\n",
    "# Display lower_limit, upper_limit.\n",
    "\n",
    "# Define lower limit (3 standard deviations below the mean)\n",
    "lower_limit = mean_aqi_log - 3 * std_aqi_log\n",
    "\n",
    "# Define upper limit (3 standard deviations above the mean)\n",
    "upper_limit = mean_aqi_log + 3 * std_aqi_log\n",
    "print(lower_limit)\n",
    "print(upper_limit)"
   ]
  },
  {
   "cell_type": "code",
   "execution_count": 45,
   "id": "c8086760-60c2-4b5a-82df-5e14837d8006",
   "metadata": {},
   "outputs": [
    {
     "data": {
      "text/plain": [
       "95.76923076923077"
      ]
     },
     "execution_count": 45,
     "metadata": {},
     "output_type": "execute_result"
    }
   ],
   "source": [
    "# Display the actual percentage of data that falls within 3 standard deviations of the mean.\n",
    "\n",
    "# Calculate the proportion of data within these limits\n",
    "proportion_within_limits = ((data['aqi_log'] >= lower_limit) & (data['aqi_log'] <= upper_limit)).mean()\n",
    "\n",
    "# Convert proportion to percentage\n",
    "percentage_within_limits = proportion_within_limits * 100\n",
    "percentage_within_limits"
   ]
  },
  {
   "cell_type": "code",
   "execution_count": 46,
   "id": "ef6b544a-87c1-433d-93b7-48346fe940b1",
   "metadata": {},
   "outputs": [
    {
     "name": "stdout",
     "output_type": "stream",
     "text": [
      "   date_local    state_name   county_name      city_name  \\\n",
      "0  2018-01-01       Arizona      Maricopa        Buckeye   \n",
      "1  2018-01-01          Ohio       Belmont      Shadyside   \n",
      "2  2018-01-01       Wyoming         Teton  Not in a city   \n",
      "3  2018-01-01  Pennsylvania  Philadelphia   Philadelphia   \n",
      "4  2018-01-01          Iowa          Polk     Des Moines   \n",
      "\n",
      "                                     local_site_name   parameter_name  \\\n",
      "0                                            BUCKEYE  Carbon monoxide   \n",
      "1                                          Shadyside  Carbon monoxide   \n",
      "2  Yellowstone National Park - Old Faithful Snow ...  Carbon monoxide   \n",
      "3                             North East Waste (NEW)  Carbon monoxide   \n",
      "4                                          CARPENTER  Carbon monoxide   \n",
      "\n",
      "    units_of_measure   aqi_log   z_score  \n",
      "0  Parts per million  2.079442  0.437265  \n",
      "1  Parts per million  1.791759  0.034753  \n",
      "2  Parts per million  1.098612 -0.935070  \n",
      "3  Parts per million  1.386294 -0.532557  \n",
      "4  Parts per million  1.386294 -0.532557  \n"
     ]
    }
   ],
   "source": [
    "# Compute the z-score for every aqi_log value, and add a column named z_score in the data to store those results.\n",
    "# Display the first 5 rows to ensure that the new column was added\n",
    "\n",
    "# Compute the z-score for each value in 'aqi_log'\n",
    "data['z_score'] = (data['aqi_log'] - mean_aqi_log) / std_aqi_log\n",
    "\n",
    "# Display the first 5 rows to verify that the new column was added\n",
    "print(data.head())"
   ]
  },
  {
   "cell_type": "code",
   "execution_count": 47,
   "id": "c6099177-3b28-4d25-b0b5-c614ec0e5c54",
   "metadata": {},
   "outputs": [
    {
     "name": "stdout",
     "output_type": "stream",
     "text": [
      "     date_local    state_name       county_name       city_name  \\\n",
      "25   2018-01-01        Nevada             Clark       Las Vegas   \n",
      "46   2018-01-01    California         Riverside       Mira Loma   \n",
      "106  2018-01-01    California          Imperial        Calexico   \n",
      "131  2018-01-01       Arizona          Maricopa         Phoenix   \n",
      "132  2018-01-01    California       Los Angeles         Compton   \n",
      "136  2018-01-01  Pennsylvania              York            York   \n",
      "152  2018-01-01     Louisiana  East Baton Rouge     Baton Rouge   \n",
      "155  2018-01-01       Arizona          Maricopa         Phoenix   \n",
      "177  2018-01-01    California       Los Angeles      Long Beach   \n",
      "206  2018-01-01    California    San Bernardino  San Bernardino   \n",
      "244  2018-01-01       Arizona          Maricopa         Phoenix   \n",
      "\n",
      "                                  local_site_name   parameter_name  \\\n",
      "25                                  Sunrise Acres  Carbon monoxide   \n",
      "46                          Mira Loma (Van Buren)  Carbon monoxide   \n",
      "106                         Calexico-Ethel Street  Carbon monoxide   \n",
      "131                               CENTRAL PHOENIX  Carbon monoxide   \n",
      "132                                       Compton  Carbon monoxide   \n",
      "136  A421330008LAT/LON POINT AT CORNER OF TRAILER  Carbon monoxide   \n",
      "152                                       Capitol  Carbon monoxide   \n",
      "155                                 SOUTH PHOENIX  Carbon monoxide   \n",
      "177                           Long Beach (Hudson)  Carbon monoxide   \n",
      "206                                San Bernardino  Carbon monoxide   \n",
      "244                                  WEST PHOENIX  Carbon monoxide   \n",
      "\n",
      "      units_of_measure   aqi_log   z_score  \n",
      "25   Parts per million  3.737670  2.757389  \n",
      "46   Parts per million  3.332205  2.190079  \n",
      "106  Parts per million  3.295837  2.139195  \n",
      "131  Parts per million  3.332205  2.190079  \n",
      "132  Parts per million  3.713572  2.723672  \n",
      "136  Parts per million  0.000000 -2.472202  \n",
      "152  Parts per million  0.000000 -2.472202  \n",
      "155  Parts per million  3.610918  2.580043  \n",
      "177  Parts per million  3.218876  2.031514  \n",
      "206  Parts per million  3.367296  2.239177  \n",
      "244  Parts per million  3.931826  3.029044  \n"
     ]
    }
   ],
   "source": [
    "# Display data where `aqi_log` is above or below 3 standard deviations of the mean\n",
    "\n",
    "# Filter the data where 'aqi_log' is outside 3 standard deviations from the mean\n",
    "filtered_data = data[(data['aqi_log'] < lower_limit) | (data['aqi_log'] > upper_limit)]\n",
    "\n",
    "# Display the filtered data\n",
    "print(filtered_data)"
   ]
  },
  {
   "cell_type": "code",
   "execution_count": null,
   "id": "ed6ac588-e384-4527-bfdc-260fb04bb799",
   "metadata": {},
   "outputs": [],
   "source": []
  }
 ],
 "metadata": {
  "kernelspec": {
   "display_name": "Python 3 (ipykernel)",
   "language": "python",
   "name": "python3"
  },
  "language_info": {
   "codemirror_mode": {
    "name": "ipython",
    "version": 3
   },
   "file_extension": ".py",
   "mimetype": "text/x-python",
   "name": "python",
   "nbconvert_exporter": "python",
   "pygments_lexer": "ipython3",
   "version": "3.12.4"
  }
 },
 "nbformat": 4,
 "nbformat_minor": 5
}
