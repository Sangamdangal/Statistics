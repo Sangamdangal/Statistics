{
 "cells": [
  {
   "cell_type": "code",
   "execution_count": 1,
   "id": "801adb24-ed42-474a-bc66-ed39b6ee29fd",
   "metadata": {},
   "outputs": [],
   "source": [
    "import pandas as pd\n",
    "import numpy as np\n",
    "from scipy import stats "
   ]
  },
  {
   "cell_type": "code",
   "execution_count": 4,
   "id": "a7612cc4-8e7e-4f2d-8299-c6e0daec6d78",
   "metadata": {},
   "outputs": [
    {
     "data": {
      "text/html": [
       "<div>\n",
       "<style scoped>\n",
       "    .dataframe tbody tr th:only-of-type {\n",
       "        vertical-align: middle;\n",
       "    }\n",
       "\n",
       "    .dataframe tbody tr th {\n",
       "        vertical-align: top;\n",
       "    }\n",
       "\n",
       "    .dataframe thead th {\n",
       "        text-align: right;\n",
       "    }\n",
       "</style>\n",
       "<table border=\"1\" class=\"dataframe\">\n",
       "  <thead>\n",
       "    <tr style=\"text-align: right;\">\n",
       "      <th></th>\n",
       "      <th>Unnamed: 0</th>\n",
       "      <th>date_local</th>\n",
       "      <th>state_name</th>\n",
       "      <th>county_name</th>\n",
       "      <th>city_name</th>\n",
       "      <th>local_site_name</th>\n",
       "      <th>parameter_name</th>\n",
       "      <th>units_of_measure</th>\n",
       "      <th>arithmetic_mean</th>\n",
       "      <th>aqi</th>\n",
       "    </tr>\n",
       "  </thead>\n",
       "  <tbody>\n",
       "    <tr>\n",
       "      <th>0</th>\n",
       "      <td>0</td>\n",
       "      <td>2018-01-01</td>\n",
       "      <td>Arizona</td>\n",
       "      <td>Maricopa</td>\n",
       "      <td>Buckeye</td>\n",
       "      <td>BUCKEYE</td>\n",
       "      <td>Carbon monoxide</td>\n",
       "      <td>Parts per million</td>\n",
       "      <td>0.473684</td>\n",
       "      <td>7</td>\n",
       "    </tr>\n",
       "    <tr>\n",
       "      <th>1</th>\n",
       "      <td>1</td>\n",
       "      <td>2018-01-01</td>\n",
       "      <td>Ohio</td>\n",
       "      <td>Belmont</td>\n",
       "      <td>Shadyside</td>\n",
       "      <td>Shadyside</td>\n",
       "      <td>Carbon monoxide</td>\n",
       "      <td>Parts per million</td>\n",
       "      <td>0.263158</td>\n",
       "      <td>5</td>\n",
       "    </tr>\n",
       "    <tr>\n",
       "      <th>2</th>\n",
       "      <td>2</td>\n",
       "      <td>2018-01-01</td>\n",
       "      <td>Wyoming</td>\n",
       "      <td>Teton</td>\n",
       "      <td>Not in a city</td>\n",
       "      <td>Yellowstone National Park - Old Faithful Snow ...</td>\n",
       "      <td>Carbon monoxide</td>\n",
       "      <td>Parts per million</td>\n",
       "      <td>0.111111</td>\n",
       "      <td>2</td>\n",
       "    </tr>\n",
       "    <tr>\n",
       "      <th>3</th>\n",
       "      <td>3</td>\n",
       "      <td>2018-01-01</td>\n",
       "      <td>Pennsylvania</td>\n",
       "      <td>Philadelphia</td>\n",
       "      <td>Philadelphia</td>\n",
       "      <td>North East Waste (NEW)</td>\n",
       "      <td>Carbon monoxide</td>\n",
       "      <td>Parts per million</td>\n",
       "      <td>0.300000</td>\n",
       "      <td>3</td>\n",
       "    </tr>\n",
       "    <tr>\n",
       "      <th>4</th>\n",
       "      <td>4</td>\n",
       "      <td>2018-01-01</td>\n",
       "      <td>Iowa</td>\n",
       "      <td>Polk</td>\n",
       "      <td>Des Moines</td>\n",
       "      <td>CARPENTER</td>\n",
       "      <td>Carbon monoxide</td>\n",
       "      <td>Parts per million</td>\n",
       "      <td>0.215789</td>\n",
       "      <td>3</td>\n",
       "    </tr>\n",
       "  </tbody>\n",
       "</table>\n",
       "</div>"
      ],
      "text/plain": [
       "   Unnamed: 0  date_local    state_name   county_name      city_name  \\\n",
       "0           0  2018-01-01       Arizona      Maricopa        Buckeye   \n",
       "1           1  2018-01-01          Ohio       Belmont      Shadyside   \n",
       "2           2  2018-01-01       Wyoming         Teton  Not in a city   \n",
       "3           3  2018-01-01  Pennsylvania  Philadelphia   Philadelphia   \n",
       "4           4  2018-01-01          Iowa          Polk     Des Moines   \n",
       "\n",
       "                                     local_site_name   parameter_name  \\\n",
       "0                                            BUCKEYE  Carbon monoxide   \n",
       "1                                          Shadyside  Carbon monoxide   \n",
       "2  Yellowstone National Park - Old Faithful Snow ...  Carbon monoxide   \n",
       "3                             North East Waste (NEW)  Carbon monoxide   \n",
       "4                                          CARPENTER  Carbon monoxide   \n",
       "\n",
       "    units_of_measure  arithmetic_mean  aqi  \n",
       "0  Parts per million         0.473684    7  \n",
       "1  Parts per million         0.263158    5  \n",
       "2  Parts per million         0.111111    2  \n",
       "3  Parts per million         0.300000    3  \n",
       "4  Parts per million         0.215789    3  "
      ]
     },
     "execution_count": 4,
     "metadata": {},
     "output_type": "execute_result"
    }
   ],
   "source": [
    "aqi = pd.read_csv('C:\\\\Users\\\\hp\\\\Desktop\\\\PYTHON\\\\Stat\\\\Day 1\\\\c4_epa_air_quality.csv')\n",
    "aqi.head()"
   ]
  },
  {
   "cell_type": "code",
   "execution_count": 6,
   "id": "65068658-fa3f-4920-9465-59e0467a10d8",
   "metadata": {},
   "outputs": [
    {
     "name": "stdout",
     "output_type": "stream",
     "text": [
      "Use head() to show a sample of data\n",
      "   Unnamed: 0  date_local    state_name   county_name      city_name  \\\n",
      "0           0  2018-01-01       Arizona      Maricopa        Buckeye   \n",
      "1           1  2018-01-01          Ohio       Belmont      Shadyside   \n",
      "2           2  2018-01-01       Wyoming         Teton  Not in a city   \n",
      "3           3  2018-01-01  Pennsylvania  Philadelphia   Philadelphia   \n",
      "4           4  2018-01-01          Iowa          Polk     Des Moines   \n",
      "\n",
      "                                     local_site_name   parameter_name  \\\n",
      "0                                            BUCKEYE  Carbon monoxide   \n",
      "1                                          Shadyside  Carbon monoxide   \n",
      "2  Yellowstone National Park - Old Faithful Snow ...  Carbon monoxide   \n",
      "3                             North East Waste (NEW)  Carbon monoxide   \n",
      "4                                          CARPENTER  Carbon monoxide   \n",
      "\n",
      "    units_of_measure  arithmetic_mean  aqi  \n",
      "0  Parts per million         0.473684    7  \n",
      "1  Parts per million         0.263158    5  \n",
      "2  Parts per million         0.111111    2  \n",
      "3  Parts per million         0.300000    3  \n",
      "4  Parts per million         0.215789    3  \n"
     ]
    }
   ],
   "source": [
    "print('Use head() to show a sample of data')\n",
    "print(aqi.head())"
   ]
  },
  {
   "cell_type": "code",
   "execution_count": 8,
   "id": "a51eace3-7e9b-4b65-90ba-8391c129f8b6",
   "metadata": {},
   "outputs": [
    {
     "name": "stdout",
     "output_type": "stream",
     "text": [
      "Use describe() to summarize AQI\n",
      "       Unnamed: 0  arithmetic_mean         aqi\n",
      "count  260.000000       260.000000  260.000000\n",
      "mean   129.500000         0.403169    6.757692\n",
      "std     75.199734         0.317902    7.061707\n",
      "min      0.000000         0.000000    0.000000\n",
      "25%     64.750000         0.200000    2.000000\n",
      "50%    129.500000         0.276315    5.000000\n",
      "75%    194.250000         0.516009    9.000000\n",
      "max    259.000000         1.921053   50.000000\n"
     ]
    }
   ],
   "source": [
    "print('Use describe() to summarize AQI')\n",
    "print(aqi.describe())"
   ]
  },
  {
   "cell_type": "code",
   "execution_count": 11,
   "id": "17a46e6b-8c5c-4ea3-b968-1463c6bb3883",
   "metadata": {},
   "outputs": [
    {
     "name": "stdout",
     "output_type": "stream",
     "text": [
      "For a more thorough examination of observations by state use values_counts()\n",
      "state_name\n",
      "California              66\n",
      "Arizona                 14\n",
      "Ohio                    12\n",
      "Florida                 12\n",
      "Texas                   10\n",
      "New York                10\n",
      "Pennsylvania            10\n",
      "Michigan                 9\n",
      "Colorado                 9\n",
      "Minnesota                7\n",
      "New Jersey               6\n",
      "Indiana                  5\n",
      "North Carolina           4\n",
      "Massachusetts            4\n",
      "Maryland                 4\n",
      "Oklahoma                 4\n",
      "Virginia                 4\n",
      "Nevada                   4\n",
      "Connecticut              4\n",
      "Kentucky                 3\n",
      "Missouri                 3\n",
      "Wyoming                  3\n",
      "Iowa                     3\n",
      "Hawaii                   3\n",
      "Utah                     3\n",
      "Vermont                  3\n",
      "Illinois                 3\n",
      "New Hampshire            2\n",
      "District Of Columbia     2\n",
      "New Mexico               2\n",
      "Montana                  2\n",
      "Oregon                   2\n",
      "Alaska                   2\n",
      "Georgia                  2\n",
      "Washington               2\n",
      "Idaho                    2\n",
      "Nebraska                 2\n",
      "Rhode Island             2\n",
      "Tennessee                2\n",
      "Maine                    2\n",
      "South Carolina           1\n",
      "Puerto Rico              1\n",
      "Arkansas                 1\n",
      "Kansas                   1\n",
      "Mississippi              1\n",
      "Alabama                  1\n",
      "Louisiana                1\n",
      "Delaware                 1\n",
      "South Dakota             1\n",
      "West Virginia            1\n",
      "North Dakota             1\n",
      "Wisconsin                1\n",
      "Name: count, dtype: int64\n"
     ]
    }
   ],
   "source": [
    "print(\"For a more thorough examination of observations by state use values_counts()\")\n",
    "print(aqi['state_name'].value_counts())"
   ]
  },
  {
   "cell_type": "markdown",
   "id": "f02f5dbb-0ab4-43aa-b02b-d848ad806244",
   "metadata": {},
   "source": [
    "Question 1: From preceding data exploration, what do you recognize?\n",
    "• You have county-level data for the first hypothesis.\n",
    "• Ohio and New York both have a higher number of observations to work with in this dataset."
   ]
  },
  {
   "cell_type": "markdown",
   "id": "474bd8d6-0130-46be-a2e4-beb9b7ec34b8",
   "metadata": {},
   "source": [
    "Statistical Tests\n",
    "\n",
    "1. Formulate the null hypothesis and the alternative hypothesis.\n",
    "2. Set the significance level.\n",
    "3. Determine the appropriate test procedure.\n",
    "4. Compute the p-value.\n",
    "5. Draw your conclusion."
   ]
  },
  {
   "cell_type": "code",
   "execution_count": 21,
   "id": "2ba4d491-bbbb-49f4-87f1-11c48e50f627",
   "metadata": {},
   "outputs": [],
   "source": [
    "# Create dataframes for each sample being compared in your test\n",
    "\n",
    "ca_la = aqi[aqi['county_name']=='Los Angeles']\n",
    "ca_other = aqi[(aqi['state_name']=='California') & (aqi['county_name']!='Los Angeles')]"
   ]
  },
  {
   "cell_type": "code",
   "execution_count": 22,
   "id": "c03124b7-e7d0-4449-94ae-b6099979cedf",
   "metadata": {},
   "outputs": [],
   "source": [
    " # For this analysis, the significance level is 5%\n",
    "significance_level = 0.05"
   ]
  },
  {
   "cell_type": "code",
   "execution_count": 23,
   "id": "6f14e280-ed57-4c78-94a5-285ef39346a1",
   "metadata": {},
   "outputs": [
    {
     "data": {
      "text/plain": [
       "TtestResult(statistic=2.1107010796372014, pvalue=0.049839056842410995, df=17.08246830361151)"
      ]
     },
     "execution_count": 23,
     "metadata": {},
     "output_type": "execute_result"
    }
   ],
   "source": [
    "# Compute your p-value here\n",
    "\n",
    "stats.ttest_ind(a=ca_la['aqi'], b=ca_other['aqi'], equal_var=False)"
   ]
  },
  {
   "cell_type": "markdown",
   "id": "2ff985b1-4ff1-4492-817f-6f9eb8261257",
   "metadata": {},
   "source": [
    "With a p-value (0.049) being less than 0.05 (as your significance level is\n",
    "5%), reject the null hypothesis in favor of the alternative hypothesis.\n",
    "Therefore, a metropolitan strategy may make sense in this case."
   ]
  },
  {
   "cell_type": "markdown",
   "id": "b75b07ac-d841-447a-8cdf-faa747aa7b0d",
   "metadata": {},
   "source": [
    "Hypothesis 2: With limited resources, ROA has to choose between New York\n",
    "and Ohio for their next regional office. Does New York have a lower AQI than\n",
    "Ohio?\n"
   ]
  },
  {
   "cell_type": "code",
   "execution_count": 24,
   "id": "09e56268-79bc-41e7-b4e8-91f59c3b62bf",
   "metadata": {},
   "outputs": [],
   "source": [
    "# Create dataframes for each sample being compared in your test\n",
    "\n",
    "ny = aqi[aqi['state_name']=='New York']\n",
    "ohio = aqi[aqi['state_name']=='Ohio']"
   ]
  },
  {
   "cell_type": "code",
   "execution_count": 25,
   "id": "c1afd612-822e-4a62-979b-e338322bd7d1",
   "metadata": {},
   "outputs": [
    {
     "name": "stdout",
     "output_type": "stream",
     "text": [
      "-2.025951038880333\n",
      "0.03044650269193468\n"
     ]
    }
   ],
   "source": [
    "# Compute your p-value\n",
    "tstat, pvalue = stats.ttest_ind(a=ny['aqi'], b=ohio['aqi'], alternative='less',equal_var=False)\n",
    "print(tstat)\n",
    "print(pvalue)\n"
   ]
  },
  {
   "cell_type": "markdown",
   "id": "0783129d-c193-4275-b9df-c59a3e9bd245",
   "metadata": {},
   "source": [
    "With a p-value (0.030) of less than 0.05 (as your significance level is\n",
    "5%) and a t-statistic < 0 (-2.036), reject the null hypothesis in favor of the alternative\n",
    "hypothesis.\n",
    "\n",
    "Therefore, you can conclude at the 5% significance level that New York has a lower mean AQI than\r\n",
    "Ohio.\r"
   ]
  },
  {
   "cell_type": "markdown",
   "id": "392268e8-3659-4198-978a-ea95f051a700",
   "metadata": {},
   "source": [
    "Hypothesis 3: A new policy will affect those states with a mean AQI of 10 or\n",
    "greater. Will Michigan be affected by this new policy?\n"
   ]
  },
  {
   "cell_type": "code",
   "execution_count": 26,
   "id": "3bdd7a87-55c8-45cb-8acf-e8694af2a68e",
   "metadata": {},
   "outputs": [],
   "source": [
    "# Create dataframes for each sample being compared in your test\n",
    "\n",
    "michigan = aqi[aqi['state_name']=='Michigan']"
   ]
  },
  {
   "cell_type": "code",
   "execution_count": 28,
   "id": "91624fa7-d8c3-4abd-84ad-595754452ecc",
   "metadata": {},
   "outputs": [
    {
     "name": "stdout",
     "output_type": "stream",
     "text": [
      "-1.7395913343286131\n",
      "0.9399405193140109\n"
     ]
    }
   ],
   "source": [
    "# Compute your p-value\n",
    "tstat, pvalue = stats.ttest_1samp(michigan['aqi'], 10, alternative='greater')\n",
    "print(tstat)\n",
    "print(pvalue)"
   ]
  },
  {
   "cell_type": "markdown",
   "id": "4e2df152-4ded-4480-a4cb-37e87f48deaa",
   "metadata": {},
   "source": [
    "With a p-value (0.939) being greater than 0.05 (as your significance level\n",
    "is 5%) and a t-statistic < 0 (-1.74), fail to reject the null hypothesis.\n",
    "Therefore, you cannot conclude at the 5% significance level that Michigan’s mean AQI is greater\n",
    "than 10. This implies that Michigan would most likely not be affected by the new policy."
   ]
  },
  {
   "cell_type": "markdown",
   "id": "ab26ba04-23a7-45ac-b378-712fc91def6b",
   "metadata": {},
   "source": [
    "Question 5. Did your results show that the AQI in Los Angeles County was statistically\n",
    "different from the rest of California? Yes, the results indicated that the AQI in Los Angeles\n",
    "County was in fact different from the rest of California."
   ]
  },
  {
   "cell_type": "markdown",
   "id": "8971d330-ddb9-4b84-8312-dccfe302750c",
   "metadata": {},
   "source": [
    "Question 6. Did New York or Ohio have a lower AQI? Using a 5% significance level, you\n",
    "can conclude that New York has a lower AQI than Ohio based on the results."
   ]
  },
  {
   "cell_type": "markdown",
   "id": "ad0efea2-0f7a-43d3-a347-3786292a0e31",
   "metadata": {},
   "source": [
    "Question 7: Will Michigan be affected by the new policy impacting states with a mean\n",
    "AQI of 10 or greater? Based on the tests, you would fail to reject the null hypothesis, meaning\n",
    "you can’t conclude that the mean AQI is greater than 10. Thus, it is unlikely that Michigan would\n",
    "be affected by the new policy.\n"
   ]
  },
  {
   "cell_type": "code",
   "execution_count": null,
   "id": "f2301968-3066-439b-a0d4-177ca2545f58",
   "metadata": {},
   "outputs": [],
   "source": []
  }
 ],
 "metadata": {
  "kernelspec": {
   "display_name": "Python 3 (ipykernel)",
   "language": "python",
   "name": "python3"
  },
  "language_info": {
   "codemirror_mode": {
    "name": "ipython",
    "version": 3
   },
   "file_extension": ".py",
   "mimetype": "text/x-python",
   "name": "python",
   "nbconvert_exporter": "python",
   "pygments_lexer": "ipython3",
   "version": "3.12.4"
  }
 },
 "nbformat": 4,
 "nbformat_minor": 5
}
