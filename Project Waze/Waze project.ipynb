{
 "cells": [
  {
   "cell_type": "markdown",
   "id": "27732007-da9d-4a71-b332-7984f6d30982",
   "metadata": {},
   "source": [
    "Data exploration and hypothesis testing\n",
    "\n",
    "In this activity, you will explore the data provided and conduct a hypothesis test.\n",
    "The purpose of this project is to demostrate knowledge of how to conduct a two-sample hypothesis\n",
    "test.\n",
    "The goal is to apply descriptive statistics and hypothesis testing in Python."
   ]
  },
  {
   "cell_type": "markdown",
   "id": "9c40b3c3-c70a-4bdd-b93b-5daf3f8e9b99",
   "metadata": {},
   "source": [
    "1. What is your research question for this data project? Later on, you will need to formulate the null and alternative hypotheses as the first step of your hypothesis test.\n",
    "\n",
    "The primary research question for this data project is:\n",
    "\n",
    "Is there a statistically significant difference in the mean number of rides between iPhone users and Android users on the Waze platform?\n",
    "\n",
    "This question will guide the formulation of the null and alternative hypotheses for the hypothesis test we will conduct."
   ]
  },
  {
   "cell_type": "code",
   "execution_count": 10,
   "id": "8db0fe5d-0fe7-41fe-92f1-b80f6341ad05",
   "metadata": {},
   "outputs": [],
   "source": [
    "import pandas as pd\n",
    "import numpy as np\n",
    "from scipy import stats"
   ]
  },
  {
   "cell_type": "code",
   "execution_count": 11,
   "id": "bdb15fdc-e500-4962-9e7a-944f27a78917",
   "metadata": {},
   "outputs": [
    {
     "data": {
      "text/html": [
       "<div>\n",
       "<style scoped>\n",
       "    .dataframe tbody tr th:only-of-type {\n",
       "        vertical-align: middle;\n",
       "    }\n",
       "\n",
       "    .dataframe tbody tr th {\n",
       "        vertical-align: top;\n",
       "    }\n",
       "\n",
       "    .dataframe thead th {\n",
       "        text-align: right;\n",
       "    }\n",
       "</style>\n",
       "<table border=\"1\" class=\"dataframe\">\n",
       "  <thead>\n",
       "    <tr style=\"text-align: right;\">\n",
       "      <th></th>\n",
       "      <th>ID</th>\n",
       "      <th>label</th>\n",
       "      <th>sessions</th>\n",
       "      <th>drives</th>\n",
       "      <th>total_sessions</th>\n",
       "      <th>n_days_after_onboarding</th>\n",
       "      <th>total_navigations_fav1</th>\n",
       "      <th>total_navigations_fav2</th>\n",
       "      <th>driven_km_drives</th>\n",
       "      <th>duration_minutes_drives</th>\n",
       "      <th>activity_days</th>\n",
       "      <th>driving_days</th>\n",
       "      <th>device</th>\n",
       "    </tr>\n",
       "  </thead>\n",
       "  <tbody>\n",
       "    <tr>\n",
       "      <th>0</th>\n",
       "      <td>0</td>\n",
       "      <td>retained</td>\n",
       "      <td>283</td>\n",
       "      <td>226</td>\n",
       "      <td>296.748273</td>\n",
       "      <td>2276</td>\n",
       "      <td>208</td>\n",
       "      <td>0</td>\n",
       "      <td>2628.845068</td>\n",
       "      <td>1985.775061</td>\n",
       "      <td>28</td>\n",
       "      <td>19</td>\n",
       "      <td>Android</td>\n",
       "    </tr>\n",
       "    <tr>\n",
       "      <th>1</th>\n",
       "      <td>1</td>\n",
       "      <td>retained</td>\n",
       "      <td>133</td>\n",
       "      <td>107</td>\n",
       "      <td>326.896596</td>\n",
       "      <td>1225</td>\n",
       "      <td>19</td>\n",
       "      <td>64</td>\n",
       "      <td>13715.920550</td>\n",
       "      <td>3160.472914</td>\n",
       "      <td>13</td>\n",
       "      <td>11</td>\n",
       "      <td>iPhone</td>\n",
       "    </tr>\n",
       "    <tr>\n",
       "      <th>2</th>\n",
       "      <td>2</td>\n",
       "      <td>retained</td>\n",
       "      <td>114</td>\n",
       "      <td>95</td>\n",
       "      <td>135.522926</td>\n",
       "      <td>2651</td>\n",
       "      <td>0</td>\n",
       "      <td>0</td>\n",
       "      <td>3059.148818</td>\n",
       "      <td>1610.735904</td>\n",
       "      <td>14</td>\n",
       "      <td>8</td>\n",
       "      <td>Android</td>\n",
       "    </tr>\n",
       "    <tr>\n",
       "      <th>3</th>\n",
       "      <td>3</td>\n",
       "      <td>retained</td>\n",
       "      <td>49</td>\n",
       "      <td>40</td>\n",
       "      <td>67.589221</td>\n",
       "      <td>15</td>\n",
       "      <td>322</td>\n",
       "      <td>7</td>\n",
       "      <td>913.591123</td>\n",
       "      <td>587.196542</td>\n",
       "      <td>7</td>\n",
       "      <td>3</td>\n",
       "      <td>iPhone</td>\n",
       "    </tr>\n",
       "    <tr>\n",
       "      <th>4</th>\n",
       "      <td>4</td>\n",
       "      <td>retained</td>\n",
       "      <td>84</td>\n",
       "      <td>68</td>\n",
       "      <td>168.247020</td>\n",
       "      <td>1562</td>\n",
       "      <td>166</td>\n",
       "      <td>5</td>\n",
       "      <td>3950.202008</td>\n",
       "      <td>1219.555924</td>\n",
       "      <td>27</td>\n",
       "      <td>18</td>\n",
       "      <td>Android</td>\n",
       "    </tr>\n",
       "  </tbody>\n",
       "</table>\n",
       "</div>"
      ],
      "text/plain": [
       "   ID     label  sessions  drives  total_sessions  n_days_after_onboarding  \\\n",
       "0   0  retained       283     226      296.748273                     2276   \n",
       "1   1  retained       133     107      326.896596                     1225   \n",
       "2   2  retained       114      95      135.522926                     2651   \n",
       "3   3  retained        49      40       67.589221                       15   \n",
       "4   4  retained        84      68      168.247020                     1562   \n",
       "\n",
       "   total_navigations_fav1  total_navigations_fav2  driven_km_drives  \\\n",
       "0                     208                       0       2628.845068   \n",
       "1                      19                      64      13715.920550   \n",
       "2                       0                       0       3059.148818   \n",
       "3                     322                       7        913.591123   \n",
       "4                     166                       5       3950.202008   \n",
       "\n",
       "   duration_minutes_drives  activity_days  driving_days   device  \n",
       "0              1985.775061             28            19  Android  \n",
       "1              3160.472914             13            11   iPhone  \n",
       "2              1610.735904             14             8  Android  \n",
       "3               587.196542              7             3   iPhone  \n",
       "4              1219.555924             27            18  Android  "
      ]
     },
     "execution_count": 11,
     "metadata": {},
     "output_type": "execute_result"
    }
   ],
   "source": [
    "df = pd.read_csv(\"C://Users//hp//Desktop//PYTHON//Stat//Waze project//waze_dataset.csv\")\n",
    "df.head()"
   ]
  },
  {
   "cell_type": "markdown",
   "id": "3e64d617-edf4-4d81-82ee-7e7c59d5337a",
   "metadata": {},
   "source": [
    "2. Data professionals use descriptive statistics for exploratory data analysis (EDA). How can computing descriptive statistics help you learn more about your data in this stage of your analysis?\n",
    "\n",
    "Summarize Data: Provides key metrics like mean, median, and standard deviation to understand central tendencies and variability.\n",
    "\n",
    "Identify Trends: Reveals patterns and comparisons between groups (e.g., iPhone vs. Android users).\n",
    "\n",
    "Assess Distributions: Indicates if data is normally distributed or skewed, guiding appropriate statistical tests.\n",
    "\n",
    "Detect Outliers: Highlights anomalies that could impact analysis results.\n",
    "\n",
    "Inform Next Steps: Guides further analysis based on initial findings.\n",
    "\n",
    "Overall, it lays a solid foundation for deeper analysis and hypothesis testing."
   ]
  },
  {
   "cell_type": "code",
   "execution_count": 12,
   "id": "721c9344-b75a-4b1b-8fe3-d7a9ac9f2669",
   "metadata": {},
   "outputs": [],
   "source": [
    "#Create a mapping dictionary\n",
    "map_dictionary = {'iPhone':1, 'Android':2}"
   ]
  },
  {
   "cell_type": "code",
   "execution_count": 13,
   "id": "277fa0da-1abb-4699-9137-1718c02530c9",
   "metadata": {},
   "outputs": [],
   "source": [
    "#Create a new 'device_type' column\n",
    "df['device_type'] = df['device'].copy()"
   ]
  },
  {
   "cell_type": "code",
   "execution_count": 14,
   "id": "5ba48250-b473-4e03-ba7d-5ffa84604ab0",
   "metadata": {},
   "outputs": [],
   "source": [
    "#Map the new column to the dictionary\n",
    "df['device_type'] = df['device_type'].map(map_dictionary)"
   ]
  },
  {
   "cell_type": "code",
   "execution_count": 16,
   "id": "6a1b2aac-6f9a-47bc-8d98-69930c9988ee",
   "metadata": {},
   "outputs": [
    {
     "data": {
      "text/html": [
       "<div>\n",
       "<style scoped>\n",
       "    .dataframe tbody tr th:only-of-type {\n",
       "        vertical-align: middle;\n",
       "    }\n",
       "\n",
       "    .dataframe tbody tr th {\n",
       "        vertical-align: top;\n",
       "    }\n",
       "\n",
       "    .dataframe thead th {\n",
       "        text-align: right;\n",
       "    }\n",
       "</style>\n",
       "<table border=\"1\" class=\"dataframe\">\n",
       "  <thead>\n",
       "    <tr style=\"text-align: right;\">\n",
       "      <th></th>\n",
       "      <th>device</th>\n",
       "      <th>device_type</th>\n",
       "    </tr>\n",
       "  </thead>\n",
       "  <tbody>\n",
       "    <tr>\n",
       "      <th>0</th>\n",
       "      <td>Android</td>\n",
       "      <td>2</td>\n",
       "    </tr>\n",
       "    <tr>\n",
       "      <th>1</th>\n",
       "      <td>iPhone</td>\n",
       "      <td>1</td>\n",
       "    </tr>\n",
       "    <tr>\n",
       "      <th>2</th>\n",
       "      <td>Android</td>\n",
       "      <td>2</td>\n",
       "    </tr>\n",
       "    <tr>\n",
       "      <th>3</th>\n",
       "      <td>iPhone</td>\n",
       "      <td>1</td>\n",
       "    </tr>\n",
       "    <tr>\n",
       "      <th>4</th>\n",
       "      <td>Android</td>\n",
       "      <td>2</td>\n",
       "    </tr>\n",
       "  </tbody>\n",
       "</table>\n",
       "</div>"
      ],
      "text/plain": [
       "    device  device_type\n",
       "0  Android            2\n",
       "1   iPhone            1\n",
       "2  Android            2\n",
       "3   iPhone            1\n",
       "4  Android            2"
      ]
     },
     "execution_count": 16,
     "metadata": {},
     "output_type": "execute_result"
    }
   ],
   "source": [
    "df[['device', 'device_type']].head()"
   ]
  },
  {
   "cell_type": "markdown",
   "id": "42f56955-f9a7-4d8f-98b7-caed1a0d89aa",
   "metadata": {},
   "source": [
    "You are interested in the relationship between device type and the number of drives. One approach\n",
    "is to look at the average number of drives for each device type. Calculate these averages."
   ]
  },
  {
   "cell_type": "code",
   "execution_count": 20,
   "id": "1c6999ef-004c-49a0-99e7-651ab2968a1e",
   "metadata": {},
   "outputs": [
    {
     "data": {
      "text/plain": [
       "device_type\n",
       "1    67.859078\n",
       "2    66.231838\n",
       "Name: drives, dtype: float64"
      ]
     },
     "execution_count": 20,
     "metadata": {},
     "output_type": "execute_result"
    }
   ],
   "source": [
    "# Calculate the average number of rides for each device type\n",
    "average_rides = df.groupby('device_type')['drives'].mean()\n",
    "average_rides"
   ]
  },
  {
   "cell_type": "markdown",
   "id": "4c5d9270-35a1-4e1b-bba3-40314d38663d",
   "metadata": {},
   "source": [
    "It appears that drivers who use an iPhone device to interact with the\n",
    "application have a higher number of drives on average. However, this difference might arise from\n",
    "random sampling, rather than being a true difference in the number of drives. To assess whether\n",
    "the difference is statistically significant, you can conduct a hypothesis test."
   ]
  },
  {
   "cell_type": "markdown",
   "id": "65c2328b-503c-4018-9c48-b909b8f287dd",
   "metadata": {},
   "source": [
    "3. What are your hypotheses for this data project?\n",
    "\n",
    "Null Hypothesis (H0):\n",
    "There is no significant difference in the mean number of drives between iPhone users and Android users. μiPhone = μAndroid\n",
    "​\n",
    "\n",
    "Alternative Hypothesis (H1):\n",
    "\n",
    "There is a significant difference in the mean number of drives between iPhone users and Android users. μiPhone = μAndroid\n",
    "​\n",
    "\n",
    "These hypotheses will guide the statistical analysis to determine if the observed differences in average drives are significant or could be attributed to random sampling."
   ]
  },
  {
   "cell_type": "code",
   "execution_count": 23,
   "id": "de7c2063-35fc-483a-ad9b-c39af3c69cc2",
   "metadata": {},
   "outputs": [],
   "source": [
    "#Isolate the drives column for iPhone users\n",
    "iPhone_drives = df[df['device_type'] == 1]['drives']"
   ]
  },
  {
   "cell_type": "code",
   "execution_count": 24,
   "id": "b9bdd7c3-04a0-4add-92af-03f8cc78377d",
   "metadata": {},
   "outputs": [],
   "source": [
    "#Isolate the drives column for Android users\n",
    "Android_drives = df[df['device_type'] == 2]['drives']"
   ]
  },
  {
   "cell_type": "code",
   "execution_count": 25,
   "id": "193e6acd-12cf-47e8-8124-568899a39ee8",
   "metadata": {},
   "outputs": [],
   "source": [
    "#Perform t-test (unequal variances)\n",
    "t_stat, p_value = stats.ttest_ind(iPhone_drives, Android_drives, equal_var=False)"
   ]
  },
  {
   "cell_type": "code",
   "execution_count": 27,
   "id": "01024485-617a-423f-bca8-9d56eac7c3e2",
   "metadata": {},
   "outputs": [
    {
     "name": "stdout",
     "output_type": "stream",
     "text": [
      "Fail to reject the null hypothesis: There is no statistically significant difference in the mean number of drives between iPhone and Android users.\n"
     ]
    }
   ],
   "source": [
    "alpha = 0.05  #significance level\n",
    "if p_value < alpha:\n",
    "    print(\"Reject the null hypothesis: There is a statistically significant difference in the mean number of drives between iPhone and Android users.\")\n",
    "else:\n",
    "    print(\"Fail to reject the null hypothesis: There is no statistically significant difference in the mean number of drives between iPhone and Android users.\")"
   ]
  },
  {
   "cell_type": "markdown",
   "id": "301ae3a7-3123-41a2-b469-2eb89e0d1da3",
   "metadata": {},
   "source": [
    "4. What business insight(s) can you draw from the result of your hypothesis test?\n",
    "\n",
    "a. A significant difference in drives indicates varying levels of engagement between iPhone and Android users.\n",
    "\n",
    "b. Insights can inform tailored marketing strategies to boost engagement, especially for the less active group.\n",
    "\n",
    "c. Focus on enhancing features for the device type with lower engagement to improve user satisfaction.\n",
    "\n",
    "d. Guide customer support and development efforts based on user behavior differences."
   ]
  }
 ],
 "metadata": {
  "kernelspec": {
   "display_name": "Python 3 (ipykernel)",
   "language": "python",
   "name": "python3"
  },
  "language_info": {
   "codemirror_mode": {
    "name": "ipython",
    "version": 3
   },
   "file_extension": ".py",
   "mimetype": "text/x-python",
   "name": "python",
   "nbconvert_exporter": "python",
   "pygments_lexer": "ipython3",
   "version": "3.12.4"
  }
 },
 "nbformat": 4,
 "nbformat_minor": 5
}
