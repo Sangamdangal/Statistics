{
 "cells": [
  {
   "cell_type": "markdown",
   "id": "ae3e3447-660a-4c40-8b9c-3ebb52a81b7a",
   "metadata": {},
   "source": [
    "Assignment Title: Understanding Descriptive Statistics and Sampling for\n",
    "Machine Learning in Python"
   ]
  },
  {
   "cell_type": "markdown",
   "id": "14712520-af32-409f-9de4-dc2764719b96",
   "metadata": {},
   "source": [
    "Assignment Overview:\n",
    "\n",
    "In this assignment, you will explore the concepts of descriptive statistics and sampling techniques.\n",
    "You will analyze dataset related to an e-commerce platform and perform statistical analysis to\n",
    "understand customer purchasing behavior. By the end of the assignment, you will gain a deeper\n",
    "understanding of how descriptive statistics and sampling techniques play a crucial role in machine\n",
    "learning preprocessing."
   ]
  },
  {
   "cell_type": "markdown",
   "id": "a50dd107-4a7b-474e-9ec2-f35fa2f02ce1",
   "metadata": {},
   "source": [
    "Scenario:\n",
    "\n",
    "You have been hired as a data scientist at an e-commerce company called \"ShopSmart.\" The\n",
    "company wants to understand customer behavior to improve sales and customer satisfaction. They\n",
    "have collected data over the past year from 10 million customers, including transaction details such\n",
    "as purchase amounts, customer demographics, product categories, and timestamps. Since the dataset\n",
    "is enormous, the company wants you to perform a statistical analysis on a representative sample of\n",
    "the dataset.\n"
   ]
  },
  {
   "cell_type": "markdown",
   "id": "4f0c3e45-56ab-43f9-b795-a09fc5757d88",
   "metadata": {},
   "source": [
    "Your goal is to:\n",
    "1. Use descriptive statistics to understand the general customer behavior.\n",
    "2. Implement different sampling techniques to create a manageable dataset for analysis."
   ]
  },
  {
   "cell_type": "markdown",
   "id": "0ae9c2a9-f238-4bc9-beff-f7e229b8b5e4",
   "metadata": {},
   "source": [
    "Dataset Details:\n",
    "\n",
    "The dataset consists of the following columns:\n",
    "\n",
    "• Customer_ID: Unique identifier for each customer.\n",
    "\n",
    "• Gender: Gender of the customer (Male/Female).\n",
    "\n",
    "• Age: Age of the customer.\n",
    "\n",
    "• Country: Country of residence.\n",
    "\n",
    "• Purchase_Amount: The amount spent on the purchase.\n",
    "\n",
    "• Purchase_Category: The category of the purchased item (Electronics, Fashion,\n",
    "Groceries, etc.).\n",
    "\n",
    "• Transaction_Timestamp: Date and time of the transaction."
   ]
  },
  {
   "cell_type": "markdown",
   "id": "89eccc0e-3c74-4278-9c34-651d31b55bb0",
   "metadata": {},
   "source": [
    "You can either use a synthetic dataset or download an open-source dataset from Kaggle to simulate\n",
    "the scenario."
   ]
  },
  {
   "cell_type": "markdown",
   "id": "f513669d-9e03-4aa7-a587-9cc90bfe50de",
   "metadata": {},
   "source": [
    "Tasks:\n",
    "\n",
    "Task 1: Descriptive Statistics\n",
    "\n",
    "• Step 1: Load the dataset into Python using Pandas.\n",
    "\n",
    "• Step 2: Perform the following descriptive statistics:\n",
    "\n",
    "• Calculate the mean, median, and mode for the Purchase_Amount column.\n",
    "\n",
    "• Find the standard deviation and variance for the Purchase_Amount.\n",
    "\n",
    "• Determine the age distribution of the customers using measures like mean, quartiles, and range.\n",
    "\n",
    "• Count the frequency of purchases by Purchase_Category to identify the most\n",
    "popular categories.\n",
    "\n",
    "• Visualize the distribution of Purchase_Amount using histograms and box plots."
   ]
  },
  {
   "cell_type": "code",
   "execution_count": null,
   "id": "2b238c13-de75-4909-968d-ad0fe5b5bdc6",
   "metadata": {},
   "outputs": [],
   "source": [
    "import numpy as np\n",
    "import pandas as pd\n",
    "import matplotlib.pyplot as plt\n",
    "import seaborn as sns"
   ]
  },
  {
   "cell_type": "code",
   "execution_count": null,
   "id": "cb3a9e29-5e9a-4d89-ad94-4de52f02cf3f",
   "metadata": {},
   "outputs": [],
   "source": [
    "#Load the dataset into Python using Pandas.\n",
    "\n",
    "ecommerce_data = pd.read_csv('ecommerce_data.csv')\n",
    "ecommerce_data.head()"
   ]
  },
  {
   "cell_type": "code",
   "execution_count": null,
   "id": "bef091ae-7392-47be-a5ae-2e91b041a180",
   "metadata": {},
   "outputs": [],
   "source": [
    "# Perform the following descriptive statistics: Calculate the mean, median, and mode for the Purchase_Amount column.\n",
    "\n",
    "mean_purchase_amount = ecommerce_data['Purchase_Amount'].mean()\n",
    "mean_purchase_amount"
   ]
  },
  {
   "cell_type": "code",
   "execution_count": null,
   "id": "7d065c49-9e86-417a-b54b-68768fa8a212",
   "metadata": {},
   "outputs": [],
   "source": [
    "median_purchase_amount = ecommerce_data['Purchase_Amount'].median()\n",
    "median_purchase_amount"
   ]
  },
  {
   "cell_type": "code",
   "execution_count": 10,
   "id": "8678c7c7-1804-4359-9524-ab3c233de0fb",
   "metadata": {},
   "outputs": [
    {
     "data": {
      "text/plain": [
       "0    67.79\n",
       "Name: Purchase_Amount, dtype: float64"
      ]
     },
     "execution_count": 10,
     "metadata": {},
     "output_type": "execute_result"
    }
   ],
   "source": [
    "mode_purchase_amount = ecommerce_data['Purchase_Amount'].mode()\n",
    "mode_purchase_amount"
   ]
  },
  {
   "cell_type": "code",
   "execution_count": 13,
   "id": "38399efe-b6eb-4602-9c5c-758d948b1517",
   "metadata": {},
   "outputs": [
    {
     "data": {
      "text/plain": [
       "143.0583534531564"
      ]
     },
     "execution_count": 13,
     "metadata": {},
     "output_type": "execute_result"
    }
   ],
   "source": [
    "# Find the standard deviation and variance for the Purchase_Amount\n",
    "\n",
    "std_purchase_amount = ecommerce_data['Purchase_Amount'].std()\n",
    "std_purchase_amount"
   ]
  },
  {
   "cell_type": "code",
   "execution_count": 14,
   "id": "27a019d2-f0d9-4684-ba10-d6168743a0e0",
   "metadata": {},
   "outputs": [
    {
     "data": {
      "text/plain": [
       "20465.692492728227"
      ]
     },
     "execution_count": 14,
     "metadata": {},
     "output_type": "execute_result"
    }
   ],
   "source": [
    "var_purchase_amount = ecommerce_data['Purchase_Amount'].var()\n",
    "var_purchase_amount"
   ]
  },
  {
   "cell_type": "code",
   "execution_count": 16,
   "id": "ae780246-ba0b-429e-956b-e4eee87b8514",
   "metadata": {},
   "outputs": [
    {
     "data": {
      "text/plain": [
       "43.46592"
      ]
     },
     "execution_count": 16,
     "metadata": {},
     "output_type": "execute_result"
    }
   ],
   "source": [
    "#Determine the age distribution of the customers using measures like mean, quartiles, and range.\n",
    "\n",
    "mean_age = ecommerce_data['Age'].mean()\n",
    "mean_age"
   ]
  },
  {
   "cell_type": "code",
   "execution_count": 19,
   "id": "725ae062-ffac-4168-8ec2-cb3928cdf34b",
   "metadata": {},
   "outputs": [
    {
     "data": {
      "text/plain": [
       "0.25    31.0\n",
       "0.50    43.0\n",
       "0.75    56.0\n",
       "Name: Age, dtype: float64"
      ]
     },
     "execution_count": 19,
     "metadata": {},
     "output_type": "execute_result"
    }
   ],
   "source": [
    "quartiles = ecommerce_data['Age'].quantile([0.25, 0.50, 0.75]) #quantle foe quartiles\n",
    "quartiles"
   ]
  },
  {
   "cell_type": "code",
   "execution_count": 20,
   "id": "8b91ef50-37d1-4bc9-95be-518e8e5a2d1e",
   "metadata": {},
   "outputs": [
    {
     "data": {
      "text/plain": [
       "51"
      ]
     },
     "execution_count": 20,
     "metadata": {},
     "output_type": "execute_result"
    }
   ],
   "source": [
    "age_range = ecommerce_data['Age'].max() - ecommerce_data['Age'].min()\n",
    "age_range"
   ]
  },
  {
   "cell_type": "code",
   "execution_count": 22,
   "id": "59b4b3c9-e743-4ce7-83a7-2a7a5dd1620b",
   "metadata": {},
   "outputs": [
    {
     "data": {
      "text/plain": [
       "Purchase_Category\n",
       "Furniture      20203\n",
       "Groceries      20095\n",
       "Fashion        19970\n",
       "Books          19926\n",
       "Electronics    19806\n",
       "Name: count, dtype: int64"
      ]
     },
     "execution_count": 22,
     "metadata": {},
     "output_type": "execute_result"
    }
   ],
   "source": [
    "# Count the frequency of purchases by Purchase_Category to identify the most popular categories.\n",
    "\n",
    "category_frequencey = ecommerce_data['Purchase_Category'].value_counts()\n",
    "category_frequencey"
   ]
  },
  {
   "cell_type": "code",
   "execution_count": 2,
   "id": "a6b17826-d871-48f6-b918-3938ff65328c",
   "metadata": {},
   "outputs": [
    {
     "ename": "NameError",
     "evalue": "name 'plt' is not defined",
     "output_type": "error",
     "traceback": [
      "\u001b[1;31m---------------------------------------------------------------------------\u001b[0m",
      "\u001b[1;31mNameError\u001b[0m                                 Traceback (most recent call last)",
      "Cell \u001b[1;32mIn[2], line 4\u001b[0m\n\u001b[0;32m      1\u001b[0m \u001b[38;5;66;03m# Visualize the distribution of Purchase_Amount using histograms and box plots.\u001b[39;00m\n\u001b[0;32m      2\u001b[0m \n\u001b[0;32m      3\u001b[0m \u001b[38;5;66;03m# Set up the matplotlib figure\u001b[39;00m\n\u001b[1;32m----> 4\u001b[0m plt\u001b[38;5;241m.\u001b[39mfigure(figsize\u001b[38;5;241m=\u001b[39m(\u001b[38;5;241m14\u001b[39m, \u001b[38;5;241m6\u001b[39m))\n\u001b[0;32m      6\u001b[0m \u001b[38;5;66;03m# Histogram\u001b[39;00m\n\u001b[0;32m      7\u001b[0m plt\u001b[38;5;241m.\u001b[39msubplot(\u001b[38;5;241m1\u001b[39m, \u001b[38;5;241m2\u001b[39m, \u001b[38;5;241m1\u001b[39m)  \u001b[38;5;66;03m# (rows, columns, panel number)\u001b[39;00m\n",
      "\u001b[1;31mNameError\u001b[0m: name 'plt' is not defined"
     ]
    }
   ],
   "source": [
    "# Visualize the distribution of Purchase_Amount using histograms and box plots.\n",
    "\n",
    "# Set up the matplotlib figure\n",
    "plt.figure(figsize=(14, 6))\n",
    "    \n",
    "# Histogram\n",
    "plt.subplot(1, 2, 1)  # (rows, columns, panel number)\n",
    "sns.histplot(ecommerce_data['Purchase_Amount'], kde=True, bins=30)\n",
    "plt.title('Histogram of Purchase Amount')\n",
    "plt.xlabel('Purchase Amount')\n",
    "plt.ylabel('Frequency')\n",
    "    \n",
    "# Box Plot\n",
    "plt.subplot(1, 2, 2)\n",
    "sns.boxplot(x=ecommerce_data['Purchase_Amount'])\n",
    "plt.title('Box Plot of Purchase Amount')\n",
    "plt.xlabel('Purchase Amount')\n",
    "    \n",
    "# Show plots\n",
    "plt.tight_layout()\n",
    "plt.show()"
   ]
  },
  {
   "cell_type": "code",
   "execution_count": null,
   "id": "7e284073-a29d-490a-9f16-c9e8de3ce85f",
   "metadata": {},
   "outputs": [],
   "source": []
  }
 ],
 "metadata": {
  "kernelspec": {
   "display_name": "Python 3 (ipykernel)",
   "language": "python",
   "name": "python3"
  },
  "language_info": {
   "codemirror_mode": {
    "name": "ipython",
    "version": 3
   },
   "file_extension": ".py",
   "mimetype": "text/x-python",
   "name": "python",
   "nbconvert_exporter": "python",
   "pygments_lexer": "ipython3",
   "version": "3.12.4"
  }
 },
 "nbformat": 4,
 "nbformat_minor": 5
}
