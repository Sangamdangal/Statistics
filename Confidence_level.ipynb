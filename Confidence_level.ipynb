{
 "cells": [
  {
   "cell_type": "code",
   "execution_count": 4,
   "id": "2292b346-86c5-46c1-b2c4-61b8dd81eb79",
   "metadata": {},
   "outputs": [],
   "source": [
    "import numpy as np\n",
    "import pandas as pd\n",
    "from scipy import stats\n",
    "import scipy.stats as stats"
   ]
  },
  {
   "cell_type": "code",
   "execution_count": 5,
   "id": "45644118-2f9c-4551-89bc-4b88c21fa2da",
   "metadata": {},
   "outputs": [],
   "source": [
    "education_districtwise = pd.read_csv('C:\\\\Users\\\\hp\\\\Desktop\\\\PYTHON\\\\Stat\\\\Day 3\\\\education_districtwise.csv')\n",
    "education_districtwise = education_districtwise.dropna()"
   ]
  },
  {
   "cell_type": "code",
   "execution_count": 6,
   "id": "b11c39a3-7f2c-4d72-bf09-9ed134ccdc84",
   "metadata": {},
   "outputs": [
    {
     "data": {
      "text/html": [
       "<div>\n",
       "<style scoped>\n",
       "    .dataframe tbody tr th:only-of-type {\n",
       "        vertical-align: middle;\n",
       "    }\n",
       "\n",
       "    .dataframe tbody tr th {\n",
       "        vertical-align: top;\n",
       "    }\n",
       "\n",
       "    .dataframe thead th {\n",
       "        text-align: right;\n",
       "    }\n",
       "</style>\n",
       "<table border=\"1\" class=\"dataframe\">\n",
       "  <thead>\n",
       "    <tr style=\"text-align: right;\">\n",
       "      <th></th>\n",
       "      <th>AC_YEAR</th>\n",
       "      <th>STATCD</th>\n",
       "      <th>DISTCD</th>\n",
       "      <th>STATNAME</th>\n",
       "      <th>DISTNAME</th>\n",
       "      <th>DISTRICTS</th>\n",
       "      <th>BLOCKS</th>\n",
       "      <th>VILLAGES</th>\n",
       "      <th>CLUSTERS</th>\n",
       "      <th>TOTPOPULAT</th>\n",
       "      <th>...</th>\n",
       "      <th>UUNI_ALL</th>\n",
       "      <th>UUNI_SC</th>\n",
       "      <th>UUNI_ST</th>\n",
       "      <th>TOTCLS1G</th>\n",
       "      <th>TOTCLS2G</th>\n",
       "      <th>TOTCLS3G</th>\n",
       "      <th>TOTCLS4G</th>\n",
       "      <th>TOTCLS5G</th>\n",
       "      <th>TOTCLS6G</th>\n",
       "      <th>TOTCLS7G</th>\n",
       "    </tr>\n",
       "  </thead>\n",
       "  <tbody>\n",
       "    <tr>\n",
       "      <th>603</th>\n",
       "      <td>2015-16</td>\n",
       "      <td>29</td>\n",
       "      <td>2922</td>\n",
       "      <td>KARNATAKA</td>\n",
       "      <td>MANDYA</td>\n",
       "      <td>1</td>\n",
       "      <td>8</td>\n",
       "      <td>1355</td>\n",
       "      <td>145</td>\n",
       "      <td>1808680.0</td>\n",
       "      <td>...</td>\n",
       "      <td>49777</td>\n",
       "      <td>10116</td>\n",
       "      <td>1028</td>\n",
       "      <td>2523</td>\n",
       "      <td>7371</td>\n",
       "      <td>50</td>\n",
       "      <td>95</td>\n",
       "      <td>6</td>\n",
       "      <td>479</td>\n",
       "      <td>117</td>\n",
       "    </tr>\n",
       "    <tr>\n",
       "      <th>23</th>\n",
       "      <td>2015-16</td>\n",
       "      <td>2</td>\n",
       "      <td>202</td>\n",
       "      <td>HIMACHAL PRADESH</td>\n",
       "      <td>KANGRA</td>\n",
       "      <td>1</td>\n",
       "      <td>19</td>\n",
       "      <td>1785</td>\n",
       "      <td>358</td>\n",
       "      <td>1507223.0</td>\n",
       "      <td>...</td>\n",
       "      <td>58676</td>\n",
       "      <td>18607</td>\n",
       "      <td>4448</td>\n",
       "      <td>6040</td>\n",
       "      <td>1502</td>\n",
       "      <td>1792</td>\n",
       "      <td>939</td>\n",
       "      <td>917</td>\n",
       "      <td>1848</td>\n",
       "      <td>512</td>\n",
       "    </tr>\n",
       "    <tr>\n",
       "      <th>43</th>\n",
       "      <td>2015-16</td>\n",
       "      <td>3</td>\n",
       "      <td>310</td>\n",
       "      <td>PUNJAB</td>\n",
       "      <td>MOGA</td>\n",
       "      <td>1</td>\n",
       "      <td>5</td>\n",
       "      <td>332</td>\n",
       "      <td>46</td>\n",
       "      <td>992289.0</td>\n",
       "      <td>...</td>\n",
       "      <td>30096</td>\n",
       "      <td>24160</td>\n",
       "      <td>86</td>\n",
       "      <td>1873</td>\n",
       "      <td>572</td>\n",
       "      <td>1679</td>\n",
       "      <td>261</td>\n",
       "      <td>365</td>\n",
       "      <td>791</td>\n",
       "      <td>276</td>\n",
       "    </tr>\n",
       "    <tr>\n",
       "      <th>653</th>\n",
       "      <td>2015-16</td>\n",
       "      <td>33</td>\n",
       "      <td>3322</td>\n",
       "      <td>TAMIL NADU</td>\n",
       "      <td>PUDUKKOTTAI</td>\n",
       "      <td>1</td>\n",
       "      <td>13</td>\n",
       "      <td>552</td>\n",
       "      <td>145</td>\n",
       "      <td>1618725.0</td>\n",
       "      <td>...</td>\n",
       "      <td>47525</td>\n",
       "      <td>10929</td>\n",
       "      <td>11</td>\n",
       "      <td>4894</td>\n",
       "      <td>2442</td>\n",
       "      <td>737</td>\n",
       "      <td>15</td>\n",
       "      <td>702</td>\n",
       "      <td>487</td>\n",
       "      <td>459</td>\n",
       "    </tr>\n",
       "    <tr>\n",
       "      <th>396</th>\n",
       "      <td>2015-16</td>\n",
       "      <td>21</td>\n",
       "      <td>2108</td>\n",
       "      <td>ODISHA</td>\n",
       "      <td>BALASORE</td>\n",
       "      <td>1</td>\n",
       "      <td>16</td>\n",
       "      <td>1830</td>\n",
       "      <td>207</td>\n",
       "      <td>2317419.0</td>\n",
       "      <td>...</td>\n",
       "      <td>73952</td>\n",
       "      <td>19493</td>\n",
       "      <td>11347</td>\n",
       "      <td>5252</td>\n",
       "      <td>4762</td>\n",
       "      <td>30</td>\n",
       "      <td>1074</td>\n",
       "      <td>0</td>\n",
       "      <td>179</td>\n",
       "      <td>1054</td>\n",
       "    </tr>\n",
       "    <tr>\n",
       "      <th>69</th>\n",
       "      <td>2015-16</td>\n",
       "      <td>5</td>\n",
       "      <td>513</td>\n",
       "      <td>UTTARAKHAND</td>\n",
       "      <td>HARDWAR</td>\n",
       "      <td>1</td>\n",
       "      <td>6</td>\n",
       "      <td>671</td>\n",
       "      <td>54</td>\n",
       "      <td>1927029.0</td>\n",
       "      <td>...</td>\n",
       "      <td>22381</td>\n",
       "      <td>9051</td>\n",
       "      <td>254</td>\n",
       "      <td>5147</td>\n",
       "      <td>2614</td>\n",
       "      <td>1200</td>\n",
       "      <td>1198</td>\n",
       "      <td>574</td>\n",
       "      <td>317</td>\n",
       "      <td>193</td>\n",
       "    </tr>\n",
       "    <tr>\n",
       "      <th>432</th>\n",
       "      <td>2015-16</td>\n",
       "      <td>22</td>\n",
       "      <td>2214</td>\n",
       "      <td>CHHATTISGARH</td>\n",
       "      <td>KANKER</td>\n",
       "      <td>1</td>\n",
       "      <td>7</td>\n",
       "      <td>1268</td>\n",
       "      <td>137</td>\n",
       "      <td>748593.0</td>\n",
       "      <td>...</td>\n",
       "      <td>43362</td>\n",
       "      <td>1777</td>\n",
       "      <td>26107</td>\n",
       "      <td>5033</td>\n",
       "      <td>474</td>\n",
       "      <td>169</td>\n",
       "      <td>1791</td>\n",
       "      <td>55</td>\n",
       "      <td>174</td>\n",
       "      <td>280</td>\n",
       "    </tr>\n",
       "    <tr>\n",
       "      <th>92</th>\n",
       "      <td>2015-16</td>\n",
       "      <td>7</td>\n",
       "      <td>702</td>\n",
       "      <td>DELHI</td>\n",
       "      <td>NORTH DELHI</td>\n",
       "      <td>1</td>\n",
       "      <td>6</td>\n",
       "      <td>80</td>\n",
       "      <td>6</td>\n",
       "      <td>883418.0</td>\n",
       "      <td>...</td>\n",
       "      <td>30873</td>\n",
       "      <td>5085</td>\n",
       "      <td>36</td>\n",
       "      <td>1423</td>\n",
       "      <td>426</td>\n",
       "      <td>1055</td>\n",
       "      <td>17</td>\n",
       "      <td>233</td>\n",
       "      <td>126</td>\n",
       "      <td>131</td>\n",
       "    </tr>\n",
       "    <tr>\n",
       "      <th>650</th>\n",
       "      <td>2015-16</td>\n",
       "      <td>33</td>\n",
       "      <td>3319</td>\n",
       "      <td>TAMIL NADU</td>\n",
       "      <td>NAGAPATTINAM</td>\n",
       "      <td>1</td>\n",
       "      <td>11</td>\n",
       "      <td>489</td>\n",
       "      <td>100</td>\n",
       "      <td>1614069.0</td>\n",
       "      <td>...</td>\n",
       "      <td>42548</td>\n",
       "      <td>21048</td>\n",
       "      <td>175</td>\n",
       "      <td>4000</td>\n",
       "      <td>1982</td>\n",
       "      <td>830</td>\n",
       "      <td>21</td>\n",
       "      <td>615</td>\n",
       "      <td>533</td>\n",
       "      <td>421</td>\n",
       "    </tr>\n",
       "    <tr>\n",
       "      <th>177</th>\n",
       "      <td>2015-16</td>\n",
       "      <td>9</td>\n",
       "      <td>945</td>\n",
       "      <td>UTTAR PRADESH</td>\n",
       "      <td>ALLAHABAD</td>\n",
       "      <td>1</td>\n",
       "      <td>22</td>\n",
       "      <td>2311</td>\n",
       "      <td>295</td>\n",
       "      <td>5959798.0</td>\n",
       "      <td>...</td>\n",
       "      <td>109363</td>\n",
       "      <td>42444</td>\n",
       "      <td>210</td>\n",
       "      <td>17010</td>\n",
       "      <td>4314</td>\n",
       "      <td>1271</td>\n",
       "      <td>6488</td>\n",
       "      <td>1537</td>\n",
       "      <td>501</td>\n",
       "      <td>593</td>\n",
       "    </tr>\n",
       "  </tbody>\n",
       "</table>\n",
       "<p>10 rows × 819 columns</p>\n",
       "</div>"
      ],
      "text/plain": [
       "     AC_YEAR  STATCD  DISTCD          STATNAME      DISTNAME  DISTRICTS  \\\n",
       "603  2015-16      29    2922         KARNATAKA        MANDYA          1   \n",
       "23   2015-16       2     202  HIMACHAL PRADESH        KANGRA          1   \n",
       "43   2015-16       3     310            PUNJAB          MOGA          1   \n",
       "653  2015-16      33    3322        TAMIL NADU   PUDUKKOTTAI          1   \n",
       "396  2015-16      21    2108            ODISHA      BALASORE          1   \n",
       "69   2015-16       5     513       UTTARAKHAND       HARDWAR          1   \n",
       "432  2015-16      22    2214      CHHATTISGARH        KANKER          1   \n",
       "92   2015-16       7     702             DELHI   NORTH DELHI          1   \n",
       "650  2015-16      33    3319        TAMIL NADU  NAGAPATTINAM          1   \n",
       "177  2015-16       9     945     UTTAR PRADESH     ALLAHABAD          1   \n",
       "\n",
       "     BLOCKS  VILLAGES  CLUSTERS  TOTPOPULAT  ...  UUNI_ALL  UUNI_SC  UUNI_ST  \\\n",
       "603       8      1355       145   1808680.0  ...     49777    10116     1028   \n",
       "23       19      1785       358   1507223.0  ...     58676    18607     4448   \n",
       "43        5       332        46    992289.0  ...     30096    24160       86   \n",
       "653      13       552       145   1618725.0  ...     47525    10929       11   \n",
       "396      16      1830       207   2317419.0  ...     73952    19493    11347   \n",
       "69        6       671        54   1927029.0  ...     22381     9051      254   \n",
       "432       7      1268       137    748593.0  ...     43362     1777    26107   \n",
       "92        6        80         6    883418.0  ...     30873     5085       36   \n",
       "650      11       489       100   1614069.0  ...     42548    21048      175   \n",
       "177      22      2311       295   5959798.0  ...    109363    42444      210   \n",
       "\n",
       "     TOTCLS1G  TOTCLS2G  TOTCLS3G  TOTCLS4G  TOTCLS5G  TOTCLS6G  TOTCLS7G  \n",
       "603      2523      7371        50        95         6       479       117  \n",
       "23       6040      1502      1792       939       917      1848       512  \n",
       "43       1873       572      1679       261       365       791       276  \n",
       "653      4894      2442       737        15       702       487       459  \n",
       "396      5252      4762        30      1074         0       179      1054  \n",
       "69       5147      2614      1200      1198       574       317       193  \n",
       "432      5033       474       169      1791        55       174       280  \n",
       "92       1423       426      1055        17       233       126       131  \n",
       "650      4000      1982       830        21       615       533       421  \n",
       "177     17010      4314      1271      6488      1537       501       593  \n",
       "\n",
       "[10 rows x 819 columns]"
      ]
     },
     "execution_count": 6,
     "metadata": {},
     "output_type": "execute_result"
    }
   ],
   "source": [
    "sampled_data = education_districtwise.sample(n=10, random_state=1)\n",
    "sampled_data"
   ]
  },
  {
   "cell_type": "code",
   "execution_count": 7,
   "id": "53052fb9-f75f-40a9-8faa-677fdc56e523",
   "metadata": {},
   "outputs": [
    {
     "data": {
      "text/plain": [
       "77.75399999999999"
      ]
     },
     "execution_count": 7,
     "metadata": {},
     "output_type": "execute_result"
    }
   ],
   "source": [
    "sample_mean = sampled_data['OVERALL_LI'].mean()\n",
    "sample_mean"
   ]
  },
  {
   "cell_type": "code",
   "execution_count": 8,
   "id": "49bcbefc-b367-413b-bc48-d1578fdf4950",
   "metadata": {},
   "outputs": [
    {
     "data": {
      "text/plain": [
       "6.411044636666736"
      ]
     },
     "execution_count": 8,
     "metadata": {},
     "output_type": "execute_result"
    }
   ],
   "source": [
    "sample_std = sampled_data['OVERALL_LI'].std()\n",
    "sample_std"
   ]
  },
  {
   "cell_type": "code",
   "execution_count": 9,
   "id": "99ee88fb-cc76-49c8-b58f-42db14056905",
   "metadata": {},
   "outputs": [
    {
     "data": {
      "text/plain": [
       "2.027350323287352"
      ]
     },
     "execution_count": 9,
     "metadata": {},
     "output_type": "execute_result"
    }
   ],
   "source": [
    "estimated_standard_error = sampled_data['OVERALL_LI'].std() / np.sqrt(sampled_data.shape[0])\n",
    "estimated_standard_error"
   ]
  },
  {
   "cell_type": "code",
   "execution_count": 10,
   "id": "70a930d0-369f-41a2-aece-28b4f179d350",
   "metadata": {},
   "outputs": [
    {
     "data": {
      "text/plain": [
       "array([74.41930547, 81.08869453])"
      ]
     },
     "execution_count": 10,
     "metadata": {},
     "output_type": "execute_result"
    }
   ],
   "source": [
    "confidence_level = stats.norm.ppf(\n",
    "    [0.05,0.95],           # Confidence level\n",
    "    loc=sample_mean,      # Mean of the distribution (point estimate)\n",
    "    scale=estimated_standard_error  # Standard error (standard deviation of the sampling distribution)\n",
    ")\n",
    "confidence_level"
   ]
  },
  {
   "cell_type": "code",
   "execution_count": 19,
   "id": "27357468-a63b-4c67-8f0d-2e76c8a7efa9",
   "metadata": {},
   "outputs": [
    {
     "name": "stdout",
     "output_type": "stream",
     "text": [
      "73.78046638231115 81.72753361768883\n"
     ]
    }
   ],
   "source": [
    "lower_bound, upper_bound = stats.norm.ppf([0.025, 0.975], loc=sample_mean, scale=estimated_standard_error)\n",
    "print(lower_bound, upper_bound)"
   ]
  },
  {
   "cell_type": "code",
   "execution_count": 21,
   "id": "095129e4-7b49-46f0-89dd-f303d050694e",
   "metadata": {},
   "outputs": [
    {
     "name": "stdout",
     "output_type": "stream",
     "text": [
      "74.41930546763955 81.08869453236044\n"
     ]
    }
   ],
   "source": [
    "lower_bound, upper_bound = stats.norm.ppf([0.05, 0.95], loc=sample_mean, scale=estimated_standard_error)\n",
    "print(lower_bound, upper_bound)"
   ]
  },
  {
   "cell_type": "code",
   "execution_count": 22,
   "id": "cb87e942-d223-48b4-919f-f5c774c3c504",
   "metadata": {},
   "outputs": [
    {
     "name": "stdout",
     "output_type": "stream",
     "text": [
      "73.03767788548444 82.47032211451554\n"
     ]
    }
   ],
   "source": [
    "lower_bound, upper_bound = stats.norm.ppf([0.01, 0.99], loc=sample_mean, scale=estimated_standard_error)\n",
    "print(lower_bound, upper_bound)"
   ]
  }
 ],
 "metadata": {
  "kernelspec": {
   "display_name": "Python 3 (ipykernel)",
   "language": "python",
   "name": "python3"
  },
  "language_info": {
   "codemirror_mode": {
    "name": "ipython",
    "version": 3
   },
   "file_extension": ".py",
   "mimetype": "text/x-python",
   "name": "python",
   "nbconvert_exporter": "python",
   "pygments_lexer": "ipython3",
   "version": "3.12.4"
  }
 },
 "nbformat": 4,
 "nbformat_minor": 5
}
