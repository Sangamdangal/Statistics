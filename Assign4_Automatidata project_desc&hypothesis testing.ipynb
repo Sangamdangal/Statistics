{
 "cells": [
  {
   "cell_type": "markdown",
   "id": "28a34344-d058-4c63-85ec-5c71f23fd1f0",
   "metadata": {},
   "source": [
    "1. What is your research question for this data project? "
   ]
  },
  {
   "cell_type": "markdown",
   "id": "08a3fee2-48a8-46c6-96aa-b0549f113c9f",
   "metadata": {},
   "source": [
    "The primary research question for this data project is: Do customers who pay with credit cards have a higher fare amount compared to customers who pay with cash?\n",
    "\n",
    "This question aims to analyze whether there is a significant difference in fare amounts based on the payment type."
   ]
  },
  {
   "cell_type": "code",
   "execution_count": 11,
   "id": "2f5f9cbe-3b67-4b07-a55f-686adac9f7bd",
   "metadata": {},
   "outputs": [],
   "source": [
    "import pandas as pd\n",
    "import numpy as np\n",
    "import matplotlib.pyplot as plt\n",
    "import seaborn as sns\n",
    "from scipy import stats"
   ]
  },
  {
   "cell_type": "code",
   "execution_count": 12,
   "id": "2f658215-eed6-4e8f-b235-9df1e71d80b1",
   "metadata": {},
   "outputs": [
    {
     "data": {
      "text/html": [
       "<div>\n",
       "<style scoped>\n",
       "    .dataframe tbody tr th:only-of-type {\n",
       "        vertical-align: middle;\n",
       "    }\n",
       "\n",
       "    .dataframe tbody tr th {\n",
       "        vertical-align: top;\n",
       "    }\n",
       "\n",
       "    .dataframe thead th {\n",
       "        text-align: right;\n",
       "    }\n",
       "</style>\n",
       "<table border=\"1\" class=\"dataframe\">\n",
       "  <thead>\n",
       "    <tr style=\"text-align: right;\">\n",
       "      <th></th>\n",
       "      <th>Unnamed: 0</th>\n",
       "      <th>VendorID</th>\n",
       "      <th>tpep_pickup_datetime</th>\n",
       "      <th>tpep_dropoff_datetime</th>\n",
       "      <th>passenger_count</th>\n",
       "      <th>trip_distance</th>\n",
       "      <th>RatecodeID</th>\n",
       "      <th>store_and_fwd_flag</th>\n",
       "      <th>PULocationID</th>\n",
       "      <th>DOLocationID</th>\n",
       "      <th>payment_type</th>\n",
       "      <th>fare_amount</th>\n",
       "      <th>extra</th>\n",
       "      <th>mta_tax</th>\n",
       "      <th>tip_amount</th>\n",
       "      <th>tolls_amount</th>\n",
       "      <th>improvement_surcharge</th>\n",
       "      <th>total_amount</th>\n",
       "    </tr>\n",
       "  </thead>\n",
       "  <tbody>\n",
       "    <tr>\n",
       "      <th>0</th>\n",
       "      <td>24870114</td>\n",
       "      <td>2</td>\n",
       "      <td>03/25/2017 8:55:43 AM</td>\n",
       "      <td>03/25/2017 9:09:47 AM</td>\n",
       "      <td>6</td>\n",
       "      <td>3.34</td>\n",
       "      <td>1</td>\n",
       "      <td>N</td>\n",
       "      <td>100</td>\n",
       "      <td>231</td>\n",
       "      <td>1</td>\n",
       "      <td>13.0</td>\n",
       "      <td>0.0</td>\n",
       "      <td>0.5</td>\n",
       "      <td>2.76</td>\n",
       "      <td>0.0</td>\n",
       "      <td>0.3</td>\n",
       "      <td>16.56</td>\n",
       "    </tr>\n",
       "    <tr>\n",
       "      <th>1</th>\n",
       "      <td>35634249</td>\n",
       "      <td>1</td>\n",
       "      <td>04/11/2017 2:53:28 PM</td>\n",
       "      <td>04/11/2017 3:19:58 PM</td>\n",
       "      <td>1</td>\n",
       "      <td>1.80</td>\n",
       "      <td>1</td>\n",
       "      <td>N</td>\n",
       "      <td>186</td>\n",
       "      <td>43</td>\n",
       "      <td>1</td>\n",
       "      <td>16.0</td>\n",
       "      <td>0.0</td>\n",
       "      <td>0.5</td>\n",
       "      <td>4.00</td>\n",
       "      <td>0.0</td>\n",
       "      <td>0.3</td>\n",
       "      <td>20.80</td>\n",
       "    </tr>\n",
       "    <tr>\n",
       "      <th>2</th>\n",
       "      <td>106203690</td>\n",
       "      <td>1</td>\n",
       "      <td>12/15/2017 7:26:56 AM</td>\n",
       "      <td>12/15/2017 7:34:08 AM</td>\n",
       "      <td>1</td>\n",
       "      <td>1.00</td>\n",
       "      <td>1</td>\n",
       "      <td>N</td>\n",
       "      <td>262</td>\n",
       "      <td>236</td>\n",
       "      <td>1</td>\n",
       "      <td>6.5</td>\n",
       "      <td>0.0</td>\n",
       "      <td>0.5</td>\n",
       "      <td>1.45</td>\n",
       "      <td>0.0</td>\n",
       "      <td>0.3</td>\n",
       "      <td>8.75</td>\n",
       "    </tr>\n",
       "    <tr>\n",
       "      <th>3</th>\n",
       "      <td>38942136</td>\n",
       "      <td>2</td>\n",
       "      <td>05/07/2017 1:17:59 PM</td>\n",
       "      <td>05/07/2017 1:48:14 PM</td>\n",
       "      <td>1</td>\n",
       "      <td>3.70</td>\n",
       "      <td>1</td>\n",
       "      <td>N</td>\n",
       "      <td>188</td>\n",
       "      <td>97</td>\n",
       "      <td>1</td>\n",
       "      <td>20.5</td>\n",
       "      <td>0.0</td>\n",
       "      <td>0.5</td>\n",
       "      <td>6.39</td>\n",
       "      <td>0.0</td>\n",
       "      <td>0.3</td>\n",
       "      <td>27.69</td>\n",
       "    </tr>\n",
       "    <tr>\n",
       "      <th>4</th>\n",
       "      <td>30841670</td>\n",
       "      <td>2</td>\n",
       "      <td>04/15/2017 11:32:20 PM</td>\n",
       "      <td>04/15/2017 11:49:03 PM</td>\n",
       "      <td>1</td>\n",
       "      <td>4.37</td>\n",
       "      <td>1</td>\n",
       "      <td>N</td>\n",
       "      <td>4</td>\n",
       "      <td>112</td>\n",
       "      <td>2</td>\n",
       "      <td>16.5</td>\n",
       "      <td>0.5</td>\n",
       "      <td>0.5</td>\n",
       "      <td>0.00</td>\n",
       "      <td>0.0</td>\n",
       "      <td>0.3</td>\n",
       "      <td>17.80</td>\n",
       "    </tr>\n",
       "  </tbody>\n",
       "</table>\n",
       "</div>"
      ],
      "text/plain": [
       "   Unnamed: 0  VendorID    tpep_pickup_datetime   tpep_dropoff_datetime  \\\n",
       "0    24870114         2   03/25/2017 8:55:43 AM   03/25/2017 9:09:47 AM   \n",
       "1    35634249         1   04/11/2017 2:53:28 PM   04/11/2017 3:19:58 PM   \n",
       "2   106203690         1   12/15/2017 7:26:56 AM   12/15/2017 7:34:08 AM   \n",
       "3    38942136         2   05/07/2017 1:17:59 PM   05/07/2017 1:48:14 PM   \n",
       "4    30841670         2  04/15/2017 11:32:20 PM  04/15/2017 11:49:03 PM   \n",
       "\n",
       "   passenger_count  trip_distance  RatecodeID store_and_fwd_flag  \\\n",
       "0                6           3.34           1                  N   \n",
       "1                1           1.80           1                  N   \n",
       "2                1           1.00           1                  N   \n",
       "3                1           3.70           1                  N   \n",
       "4                1           4.37           1                  N   \n",
       "\n",
       "   PULocationID  DOLocationID  payment_type  fare_amount  extra  mta_tax  \\\n",
       "0           100           231             1         13.0    0.0      0.5   \n",
       "1           186            43             1         16.0    0.0      0.5   \n",
       "2           262           236             1          6.5    0.0      0.5   \n",
       "3           188            97             1         20.5    0.0      0.5   \n",
       "4             4           112             2         16.5    0.5      0.5   \n",
       "\n",
       "   tip_amount  tolls_amount  improvement_surcharge  total_amount  \n",
       "0        2.76           0.0                    0.3         16.56  \n",
       "1        4.00           0.0                    0.3         20.80  \n",
       "2        1.45           0.0                    0.3          8.75  \n",
       "3        6.39           0.0                    0.3         27.69  \n",
       "4        0.00           0.0                    0.3         17.80  "
      ]
     },
     "execution_count": 12,
     "metadata": {},
     "output_type": "execute_result"
    }
   ],
   "source": [
    "#data preparation\n",
    "taxi_data = pd.read_csv(\"C://Users//hp//Desktop//PYTHON//Model Development//2017_Yellow_Taxi_Trip_Data.csv\")\n",
    "taxi_data.head()"
   ]
  },
  {
   "cell_type": "markdown",
   "id": "25914ca0-a68e-42dc-b758-cfa0d57c2473",
   "metadata": {},
   "source": [
    "Data professionals use descriptive statistics for Exploratory Data Analysis. How can computing\n",
    "descriptive statistics help you learn more about your data in this stage of your analysis?"
   ]
  },
  {
   "cell_type": "markdown",
   "id": "b4eec39b-1420-489e-8ff4-dea29b02061c",
   "metadata": {},
   "source": [
    "Computing descriptive statistics helps you learn more about your data by:\n",
    "\n",
    "Summarization: Provides a quick overview of key metrics like mean, median, and standard deviation.\n",
    "\n",
    "Comparison: Facilitates easy comparison between different groups (e.g., credit card vs. cash).\n",
    "\n",
    "Identifying Patterns: Reveals the distribution shape and data characteristics, such as skewness and outliers.\n",
    "\n",
    "Informed Hypothesis Testing: Helps choose appropriate statistical tests based on data properties.\n",
    "\n",
    "Visual Insights: Supports the creation of visualizations that illustrate data trends and distributions clearly.\n",
    "\n",
    "In short, descriptive statistics offer crucial insights that guide further analysis and inform decision-making."
   ]
  },
  {
   "cell_type": "code",
   "execution_count": 13,
   "id": "f82bb7ef-2e27-4d7a-9a3c-7f82995b6913",
   "metadata": {},
   "outputs": [
    {
     "data": {
      "text/plain": [
       "Unnamed: 0               0\n",
       "VendorID                 0\n",
       "tpep_pickup_datetime     0\n",
       "tpep_dropoff_datetime    0\n",
       "passenger_count          0\n",
       "trip_distance            0\n",
       "RatecodeID               0\n",
       "store_and_fwd_flag       0\n",
       "PULocationID             0\n",
       "DOLocationID             0\n",
       "payment_type             0\n",
       "fare_amount              0\n",
       "extra                    0\n",
       "mta_tax                  0\n",
       "tip_amount               0\n",
       "tolls_amount             0\n",
       "improvement_surcharge    0\n",
       "total_amount             0\n",
       "dtype: int64"
      ]
     },
     "execution_count": 13,
     "metadata": {},
     "output_type": "execute_result"
    }
   ],
   "source": [
    "#data cleaning\n",
    "taxi_data.isnull().sum()"
   ]
  },
  {
   "cell_type": "code",
   "execution_count": 14,
   "id": "3d324ada-7442-4e9c-8d67-a29020f7ade5",
   "metadata": {},
   "outputs": [
    {
     "data": {
      "text/plain": [
       "Unnamed: 0                 int64\n",
       "VendorID                   int64\n",
       "tpep_pickup_datetime      object\n",
       "tpep_dropoff_datetime     object\n",
       "passenger_count            int64\n",
       "trip_distance            float64\n",
       "RatecodeID                 int64\n",
       "store_and_fwd_flag        object\n",
       "PULocationID               int64\n",
       "DOLocationID               int64\n",
       "payment_type               int64\n",
       "fare_amount              float64\n",
       "extra                    float64\n",
       "mta_tax                  float64\n",
       "tip_amount               float64\n",
       "tolls_amount             float64\n",
       "improvement_surcharge    float64\n",
       "total_amount             float64\n",
       "dtype: object"
      ]
     },
     "execution_count": 14,
     "metadata": {},
     "output_type": "execute_result"
    }
   ],
   "source": [
    "taxi_data.dtypes"
   ]
  },
  {
   "cell_type": "code",
   "execution_count": 17,
   "id": "1256af5c-ad58-4999-a8a9-fbef3517f27d",
   "metadata": {},
   "outputs": [
    {
     "data": {
      "text/html": [
       "<div>\n",
       "<style scoped>\n",
       "    .dataframe tbody tr th:only-of-type {\n",
       "        vertical-align: middle;\n",
       "    }\n",
       "\n",
       "    .dataframe tbody tr th {\n",
       "        vertical-align: top;\n",
       "    }\n",
       "\n",
       "    .dataframe thead th {\n",
       "        text-align: right;\n",
       "    }\n",
       "</style>\n",
       "<table border=\"1\" class=\"dataframe\">\n",
       "  <thead>\n",
       "    <tr style=\"text-align: right;\">\n",
       "      <th></th>\n",
       "      <th>payment_type</th>\n",
       "      <th>fare_amount</th>\n",
       "    </tr>\n",
       "  </thead>\n",
       "  <tbody>\n",
       "    <tr>\n",
       "      <th>0</th>\n",
       "      <td>Credit Card</td>\n",
       "      <td>13.0</td>\n",
       "    </tr>\n",
       "    <tr>\n",
       "      <th>1</th>\n",
       "      <td>Credit Card</td>\n",
       "      <td>16.0</td>\n",
       "    </tr>\n",
       "    <tr>\n",
       "      <th>2</th>\n",
       "      <td>Credit Card</td>\n",
       "      <td>6.5</td>\n",
       "    </tr>\n",
       "    <tr>\n",
       "      <th>3</th>\n",
       "      <td>Credit Card</td>\n",
       "      <td>20.5</td>\n",
       "    </tr>\n",
       "    <tr>\n",
       "      <th>4</th>\n",
       "      <td>Cash</td>\n",
       "      <td>16.5</td>\n",
       "    </tr>\n",
       "  </tbody>\n",
       "</table>\n",
       "</div>"
      ],
      "text/plain": [
       "  payment_type  fare_amount\n",
       "0  Credit Card         13.0\n",
       "1  Credit Card         16.0\n",
       "2  Credit Card          6.5\n",
       "3  Credit Card         20.5\n",
       "4         Cash         16.5"
      ]
     },
     "execution_count": 17,
     "metadata": {},
     "output_type": "execute_result"
    }
   ],
   "source": [
    "#Data exploration\n",
    "#Use descriptive statistics to conduct Exploratory Data Analysis (EDA).\n",
    "#Note: In the dataset, payment_type is encoded in integers: * 1: Credit card * 2: Cash * 3: No charge * 4: Dispute * 5: Unknown\n",
    "\n",
    "\n",
    "#map payment types\n",
    "payment_mapping = { 1: 'Credit Card', 2: 'Cash', 3: 'No Charge', 4: 'Dispute', 5: 'Unknown'}\n",
    "taxi_data['payment_type'].map(payment_mapping)\n",
    "\n",
    "taxi_data[['payment_type', 'fare_amount']].head()"
   ]
  },
  {
   "cell_type": "code",
   "execution_count": 21,
   "id": "8775d947-6bbf-4811-b05c-4fc8c7083a15",
   "metadata": {},
   "outputs": [
    {
     "data": {
      "text/html": [
       "<div>\n",
       "<style scoped>\n",
       "    .dataframe tbody tr th:only-of-type {\n",
       "        vertical-align: middle;\n",
       "    }\n",
       "\n",
       "    .dataframe tbody tr th {\n",
       "        vertical-align: top;\n",
       "    }\n",
       "\n",
       "    .dataframe thead th {\n",
       "        text-align: right;\n",
       "    }\n",
       "</style>\n",
       "<table border=\"1\" class=\"dataframe\">\n",
       "  <thead>\n",
       "    <tr style=\"text-align: right;\">\n",
       "      <th></th>\n",
       "      <th>count</th>\n",
       "      <th>mean</th>\n",
       "      <th>std</th>\n",
       "      <th>min</th>\n",
       "      <th>25%</th>\n",
       "      <th>50%</th>\n",
       "      <th>75%</th>\n",
       "      <th>max</th>\n",
       "    </tr>\n",
       "    <tr>\n",
       "      <th>payment_type</th>\n",
       "      <th></th>\n",
       "      <th></th>\n",
       "      <th></th>\n",
       "      <th></th>\n",
       "      <th></th>\n",
       "      <th></th>\n",
       "      <th></th>\n",
       "      <th></th>\n",
       "    </tr>\n",
       "  </thead>\n",
       "  <tbody>\n",
       "    <tr>\n",
       "      <th>Cash</th>\n",
       "      <td>7267.0</td>\n",
       "      <td>12.213546</td>\n",
       "      <td>11.689940</td>\n",
       "      <td>0.0</td>\n",
       "      <td>6.0</td>\n",
       "      <td>9.0</td>\n",
       "      <td>14.000</td>\n",
       "      <td>450.00</td>\n",
       "    </tr>\n",
       "    <tr>\n",
       "      <th>Credit Card</th>\n",
       "      <td>15265.0</td>\n",
       "      <td>13.429748</td>\n",
       "      <td>13.848964</td>\n",
       "      <td>0.0</td>\n",
       "      <td>7.0</td>\n",
       "      <td>9.5</td>\n",
       "      <td>15.000</td>\n",
       "      <td>999.99</td>\n",
       "    </tr>\n",
       "    <tr>\n",
       "      <th>Dispute</th>\n",
       "      <td>46.0</td>\n",
       "      <td>9.913043</td>\n",
       "      <td>24.162943</td>\n",
       "      <td>-120.0</td>\n",
       "      <td>5.0</td>\n",
       "      <td>8.5</td>\n",
       "      <td>17.625</td>\n",
       "      <td>52.00</td>\n",
       "    </tr>\n",
       "    <tr>\n",
       "      <th>No Charge</th>\n",
       "      <td>121.0</td>\n",
       "      <td>12.186116</td>\n",
       "      <td>14.894232</td>\n",
       "      <td>-4.5</td>\n",
       "      <td>2.5</td>\n",
       "      <td>7.0</td>\n",
       "      <td>15.000</td>\n",
       "      <td>65.50</td>\n",
       "    </tr>\n",
       "  </tbody>\n",
       "</table>\n",
       "</div>"
      ],
      "text/plain": [
       "                count       mean        std    min  25%  50%     75%     max\n",
       "payment_type                                                                \n",
       "Cash           7267.0  12.213546  11.689940    0.0  6.0  9.0  14.000  450.00\n",
       "Credit Card   15265.0  13.429748  13.848964    0.0  7.0  9.5  15.000  999.99\n",
       "Dispute          46.0   9.913043  24.162943 -120.0  5.0  8.5  17.625   52.00\n",
       "No Charge       121.0  12.186116  14.894232   -4.5  2.5  7.0  15.000   65.50"
      ]
     },
     "execution_count": 21,
     "metadata": {},
     "output_type": "execute_result"
    }
   ],
   "source": [
    "# Calculate descriptive statistics for fare_amount by payment type\n",
    "taxi_data.groupby('payment_type')['fare_amount'].describe()"
   ]
  },
  {
   "cell_type": "markdown",
   "id": "31284c28-6039-42b4-8399-f88e75c4d569",
   "metadata": {},
   "source": [
    "Based on the averages shown, it appears that customers who pay in credit card tend to pay a larger\n",
    "fare amount than customers who pay in cash. However, this difference might arise from random\n",
    "sampling, rather than being a true difference in fare amount. To assess whether the difference is\n",
    "statistically significant, you conduct a hypothesis test."
   ]
  },
  {
   "cell_type": "markdown",
   "id": "2a5c0a05-5dd8-4f49-8341-d8f08625b44c",
   "metadata": {},
   "source": [
    "Hypothesis testing"
   ]
  },
  {
   "cell_type": "code",
   "execution_count": 22,
   "id": "8c4d27fa-1ba9-4166-8a1b-6c614caa508e",
   "metadata": {},
   "outputs": [],
   "source": [
    "# Filter data for relevant payment types (Credit Card and Cash)\n",
    "filtered_data = taxi_data[taxi_data['payment_type'].isin(['Credit Card', 'Cash'])]"
   ]
  },
  {
   "cell_type": "code",
   "execution_count": 23,
   "id": "12d89424-5a18-42ee-b496-8d5f1de38306",
   "metadata": {},
   "outputs": [],
   "source": [
    "# Separate the fare amounts\n",
    "credit_card_fares = filtered_data[filtered_data['payment_type'] == 'Credit Card']['fare_amount']\n",
    "cash_fares = filtered_data[filtered_data['payment_type'] == 'Cash']['fare_amount']"
   ]
  },
  {
   "cell_type": "code",
   "execution_count": 24,
   "id": "3fbd1bc6-eb1f-4774-acdd-06a76a87b119",
   "metadata": {},
   "outputs": [],
   "source": [
    "# Perform a two-sample t-test\n",
    "t_stat, p_value = stats.ttest_ind(credit_card_fares, cash_fares, equal_var=False)"
   ]
  },
  {
   "cell_type": "code",
   "execution_count": 26,
   "id": "16cad2af-0903-468c-b804-6c65665a7ccd",
   "metadata": {},
   "outputs": [
    {
     "name": "stdout",
     "output_type": "stream",
     "text": [
      "6.866800855655372 6.797387473030518e-12\n"
     ]
    }
   ],
   "source": [
    "print(t_stat,p_value)"
   ]
  },
  {
   "cell_type": "code",
   "execution_count": 27,
   "id": "3c98c948-f1d5-46fa-96f1-9993b9ac22e2",
   "metadata": {},
   "outputs": [
    {
     "name": "stdout",
     "output_type": "stream",
     "text": [
      "Reject the null hypothesis (H0)\n"
     ]
    }
   ],
   "source": [
    "# Decision based on p-value\n",
    "alpha = 0.05\n",
    "if p_value < alpha:\n",
    "    decision = \"Reject the null hypothesis (H0)\"\n",
    "else:\n",
    "    decision = \"Fail to reject the null hypothesis (H0)\"\n",
    "\n",
    "print(decision)"
   ]
  },
  {
   "cell_type": "markdown",
   "id": "99302415-270b-446b-8adb-0337918b2a29",
   "metadata": {},
   "source": [
    "There is a statistically significant difference in average fare amounts between credit card and cash customers."
   ]
  },
  {
   "cell_type": "markdown",
   "id": "443e6fe5-e38b-40ec-b97d-3fa6e4717410",
   "metadata": {},
   "source": [
    "Communicate insights with stakeholders\n",
    "1. What business insight(s) can you draw from the result of your hypothesis test?\n",
    "Payment Impact: Credit card users tend to pay more, suggesting that encouraging credit card use could boost revenue for drivers.\n",
    "\n",
    "Targeted Strategies: Opportunities to market promotions or incentives for credit card payments.\n",
    "\n",
    "Policy Considerations: NYC TLC might implement policies to enhance credit card transactions for better cash flow.\n",
    "\n",
    "2. Consider why this A/B test project might not be realistic, and what assumptions had to be \n",
    "made for this educational project\n",
    "Random Sampling: Assumes customers were randomly assigned to payment types, which may not reflect real-world choices.\n",
    "\n",
    "Controlled Environment: Assumes external factors (e.g., trip conditions) do not influence fare amounts, which might not be realistic.\n",
    "\n",
    "Data Integrity: Relies on the accuracy of fare and payment data, which could have anomalies.\n",
    "\n",
    "Sample Size: The dataset may not fully represent the diverse NYC taxi customer base.."
   ]
  },
  {
   "cell_type": "code",
   "execution_count": null,
   "id": "b96eead0-2522-4aab-84f0-1deab2976a0c",
   "metadata": {},
   "outputs": [],
   "source": []
  }
 ],
 "metadata": {
  "kernelspec": {
   "display_name": "Python 3 (ipykernel)",
   "language": "python",
   "name": "python3"
  },
  "language_info": {
   "codemirror_mode": {
    "name": "ipython",
    "version": 3
   },
   "file_extension": ".py",
   "mimetype": "text/x-python",
   "name": "python",
   "nbconvert_exporter": "python",
   "pygments_lexer": "ipython3",
   "version": "3.12.4"
  }
 },
 "nbformat": 4,
 "nbformat_minor": 5
}
